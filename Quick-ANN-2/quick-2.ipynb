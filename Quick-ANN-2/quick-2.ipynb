{
 "cells": [
  {
   "cell_type": "markdown",
   "id": "dceb67b9-d5b9-4322-9c2e-1658cb909515",
   "metadata": {},
   "source": [
    "Imports and declarations\n",
    "========================"
   ]
  },
  {
   "cell_type": "code",
   "execution_count": 1,
   "id": "348ddc91-e4ce-41e4-9019-a81c5ed81f57",
   "metadata": {},
   "outputs": [
    {
     "name": "stderr",
     "output_type": "stream",
     "text": [
      "2024-04-23 22:51:34.591603: I tensorflow/core/platform/cpu_feature_guard.cc:210] This TensorFlow binary is optimized to use available CPU instructions in performance-critical operations.\n",
      "To enable the following instructions: AVX2 FMA, in other operations, rebuild TensorFlow with the appropriate compiler flags.\n"
     ]
    }
   ],
   "source": [
    "import pandas as pd;\n",
    "import logging;\n",
    "import opTools.opUtils.io_utils as opio;\n",
    "import opTools.data_re_format as data_preparation\n",
    "\n",
    "log = logging.getLogger(\" Quick-research \");\n",
    "logging.basicConfig(level=\"INFO\")\n",
    "\n",
    "def log_df(df, title):\n",
    "    s = f\"*  {title}\\n   {len(title) * \"=\"}\"\n",
    "    print(f\"\\n{s}:\\n   columns:{df.shape[1]} x rows:{df.shape[0]}\");\n",
    "    "
   ]
  },
  {
   "cell_type": "code",
   "execution_count": 2,
   "id": "f3014dde-2d6f-4d4a-9aa1-cbc182659574",
   "metadata": {},
   "outputs": [
    {
     "name": "stderr",
     "output_type": "stream",
     "text": [
      "INFO: Quick-research :Configuration: v1.0\n",
      "\n",
      "The multiparameter, per-segment  power consumption forecast algorithm\n",
      "\n"
     ]
    }
   ],
   "source": [
    "CONFIG = opio.load_configuration(\"quick_ann_step_executor.conf.yml\");\n",
    "log.info(f\"Configuration: v{CONFIG[\"version\"]}\\n\\n{CONFIG[\"info\"]}\");\n",
    "\n",
    "SCENARIO = CONFIG[\"scenario\"];"
   ]
  },
  {
   "cell_type": "markdown",
   "id": "108ef427-cbbe-45ff-8a89-6a4093f9395a",
   "metadata": {},
   "source": [
    "Split data by segment change\n",
    "============================"
   ]
  },
  {
   "cell_type": "code",
   "execution_count": 3,
   "id": "f938315e-bf11-4244-bc08-1d9dba1244ad",
   "metadata": {},
   "outputs": [
    {
     "name": "stderr",
     "output_type": "stream",
     "text": [
      "INFO:opTools.opUtils.io_utils:Extract the '6000_frames_20221124+25_new.pkl' files data from the './DATA/6000_frame.zip' ZIP archive.\n"
     ]
    },
    {
     "name": "stdout",
     "output_type": "stream",
     "text": [
      "\n",
      "*  data_loader: - Load raw data from file\n",
      "   ======================================:\n",
      "   columns:50 x rows:67223\n",
      "\n",
      "*  data_preparation: - reformat to data source\n",
      "   ===========================================:\n",
      "   columns:11 x rows:27000\n"
     ]
    },
    {
     "data": {
      "text/html": [
       "<div>\n",
       "<style scoped>\n",
       "    .dataframe tbody tr th:only-of-type {\n",
       "        vertical-align: middle;\n",
       "    }\n",
       "\n",
       "    .dataframe tbody tr th {\n",
       "        vertical-align: top;\n",
       "    }\n",
       "\n",
       "    .dataframe thead th {\n",
       "        text-align: right;\n",
       "    }\n",
       "</style>\n",
       "<table border=\"1\" class=\"dataframe\">\n",
       "  <thead>\n",
       "    <tr style=\"text-align: right;\">\n",
       "      <th></th>\n",
       "      <th>Timestamp</th>\n",
       "      <th>Battery cell voltage</th>\n",
       "      <th>ActualSpeed_L</th>\n",
       "      <th>ActualSpeed_R</th>\n",
       "      <th>Current segment</th>\n",
       "      <th>Speed</th>\n",
       "      <th>Cumulative energy consumption</th>\n",
       "      <th>Momentary current consuption</th>\n",
       "      <th>Momentary energy consumption</th>\n",
       "      <th>Momentary power consumption</th>\n",
       "      <th>Mass</th>\n",
       "    </tr>\n",
       "    <tr>\n",
       "      <th>Timestamp</th>\n",
       "      <th></th>\n",
       "      <th></th>\n",
       "      <th></th>\n",
       "      <th></th>\n",
       "      <th></th>\n",
       "      <th></th>\n",
       "      <th></th>\n",
       "      <th></th>\n",
       "      <th></th>\n",
       "      <th></th>\n",
       "      <th></th>\n",
       "    </tr>\n",
       "  </thead>\n",
       "  <tbody>\n",
       "    <tr>\n",
       "      <th>2022-11-25 11:14:58.607783</th>\n",
       "      <td>2022-11-25 11:14:58.607783</td>\n",
       "      <td>42670.0</td>\n",
       "      <td>81.0</td>\n",
       "      <td>147.0</td>\n",
       "      <td>42.0</td>\n",
       "      <td>0.152438</td>\n",
       "      <td>888.0</td>\n",
       "      <td>7580.0</td>\n",
       "      <td>1302.0</td>\n",
       "      <td>323.0</td>\n",
       "      <td>200.0</td>\n",
       "    </tr>\n",
       "    <tr>\n",
       "      <th>2022-11-25 11:14:59.051414</th>\n",
       "      <td>2022-11-25 11:14:59.051414</td>\n",
       "      <td>42670.0</td>\n",
       "      <td>89.0</td>\n",
       "      <td>157.0</td>\n",
       "      <td>42.0</td>\n",
       "      <td>0.169731</td>\n",
       "      <td>888.0</td>\n",
       "      <td>7580.0</td>\n",
       "      <td>1302.0</td>\n",
       "      <td>323.0</td>\n",
       "      <td>200.0</td>\n",
       "    </tr>\n",
       "  </tbody>\n",
       "</table>\n",
       "</div>"
      ],
      "text/plain": [
       "                                             Timestamp  Battery cell voltage  \\\n",
       "Timestamp                                                                      \n",
       "2022-11-25 11:14:58.607783  2022-11-25 11:14:58.607783               42670.0   \n",
       "2022-11-25 11:14:59.051414  2022-11-25 11:14:59.051414               42670.0   \n",
       "\n",
       "                            ActualSpeed_L  ActualSpeed_R  Current segment  \\\n",
       "Timestamp                                                                   \n",
       "2022-11-25 11:14:58.607783           81.0          147.0             42.0   \n",
       "2022-11-25 11:14:59.051414           89.0          157.0             42.0   \n",
       "\n",
       "                               Speed  Cumulative energy consumption  \\\n",
       "Timestamp                                                             \n",
       "2022-11-25 11:14:58.607783  0.152438                          888.0   \n",
       "2022-11-25 11:14:59.051414  0.169731                          888.0   \n",
       "\n",
       "                            Momentary current consuption  \\\n",
       "Timestamp                                                  \n",
       "2022-11-25 11:14:58.607783                        7580.0   \n",
       "2022-11-25 11:14:59.051414                        7580.0   \n",
       "\n",
       "                            Momentary energy consumption  \\\n",
       "Timestamp                                                  \n",
       "2022-11-25 11:14:58.607783                        1302.0   \n",
       "2022-11-25 11:14:59.051414                        1302.0   \n",
       "\n",
       "                            Momentary power consumption   Mass  \n",
       "Timestamp                                                       \n",
       "2022-11-25 11:14:58.607783                        323.0  200.0  \n",
       "2022-11-25 11:14:59.051414                        323.0  200.0  "
      ]
     },
     "execution_count": 3,
     "metadata": {},
     "output_type": "execute_result"
    }
   ],
   "source": [
    "import opTools.data_loader as data_loader;\n",
    "\n",
    "step_name, step_config = SCENARIO[0]\n",
    "df = data_loader.execute(None, **step_config[\"data_source\"])[0];\n",
    "log_df(df, f\"{step_name}: - Load raw data from file\");\n",
    "\n",
    "step_name, step_config = SCENARIO[1]\n",
    "df_source = data_preparation.execute(df, **step_config[\"processing\"])\n",
    "log_df(df_source, f\"{step_name}: - reformat to data source\")\n",
    "\n",
    "# CSV Raw Input data\n",
    "df_source.head(2)"
   ]
  },
  {
   "cell_type": "code",
   "execution_count": 4,
   "id": "c5be1c6f-e057-466c-8cd3-79bfd72d935f",
   "metadata": {},
   "outputs": [
    {
     "name": "stdout",
     "output_type": "stream",
     "text": [
      "data_segmentation: - splittered route to 704 segments with 26 unique segments\n"
     ]
    }
   ],
   "source": [
    "import opTools.data_segmentation as seg\n",
    "\n",
    "step_name, step_config = SCENARIO[2]\n",
    "dfs_list, dfs_grouped = seg.execute(df_source, **step_config[\"processing\"]);\n",
    "print(f\"{step_name}: - splittered route to {len(dfs_list)} segments with {len(dfs_grouped)} unique segments\")\n"
   ]
  },
  {
   "cell_type": "code",
   "execution_count": 5,
   "id": "bc7729a5-270d-41af-9e82-23891779c3fb",
   "metadata": {},
   "outputs": [],
   "source": [
    "import opTools.build_per_segment_statistics as proc\n",
    "step_name, step_config = SCENARIO[3]\n",
    "df_segments_route, df_segments_dictionary = proc.execute((dfs_list, dfs_grouped), **step_config[\"processing\"]) "
   ]
  },
  {
   "cell_type": "code",
   "execution_count": 6,
   "id": "0fcb4a14-7725-4563-a76a-14e6ba0ae825",
   "metadata": {},
   "outputs": [
    {
     "name": "stdout",
     "output_type": "stream",
     "text": [
      "\n",
      "*  train route in segments\n",
      "   =======================:\n",
      "   columns:8 x rows:704\n",
      "\n",
      "*  averaged segments statistics dictonary\n",
      "   ======================================:\n",
      "   columns:7 x rows:26\n"
     ]
    },
    {
     "data": {
      "text/html": [
       "<div>\n",
       "<style scoped>\n",
       "    .dataframe tbody tr th:only-of-type {\n",
       "        vertical-align: middle;\n",
       "    }\n",
       "\n",
       "    .dataframe tbody tr th {\n",
       "        vertical-align: top;\n",
       "    }\n",
       "\n",
       "    .dataframe thead th {\n",
       "        text-align: right;\n",
       "    }\n",
       "</style>\n",
       "<table border=\"1\" class=\"dataframe\">\n",
       "  <thead>\n",
       "    <tr style=\"text-align: right;\">\n",
       "      <th></th>\n",
       "      <th>Segment</th>\n",
       "      <th>Mass</th>\n",
       "      <th>Samples count</th>\n",
       "      <th>Day hour</th>\n",
       "      <th>Duration</th>\n",
       "      <th>Start segment voltage</th>\n",
       "      <th>End segment voltage</th>\n",
       "      <th>Voltage delta</th>\n",
       "    </tr>\n",
       "  </thead>\n",
       "  <tbody>\n",
       "    <tr>\n",
       "      <th>0</th>\n",
       "      <td>42.0</td>\n",
       "      <td>200.0</td>\n",
       "      <td>19.0</td>\n",
       "      <td>11.0</td>\n",
       "      <td>9.0</td>\n",
       "      <td>42670.0</td>\n",
       "      <td>42670.0</td>\n",
       "      <td>0.0</td>\n",
       "    </tr>\n",
       "    <tr>\n",
       "      <th>1</th>\n",
       "      <td>41.0</td>\n",
       "      <td>200.0</td>\n",
       "      <td>43.0</td>\n",
       "      <td>11.0</td>\n",
       "      <td>22.0</td>\n",
       "      <td>42670.0</td>\n",
       "      <td>42670.0</td>\n",
       "      <td>0.0</td>\n",
       "    </tr>\n",
       "    <tr>\n",
       "      <th>2</th>\n",
       "      <td>9.0</td>\n",
       "      <td>200.0</td>\n",
       "      <td>22.0</td>\n",
       "      <td>11.0</td>\n",
       "      <td>11.0</td>\n",
       "      <td>42670.0</td>\n",
       "      <td>42670.0</td>\n",
       "      <td>0.0</td>\n",
       "    </tr>\n",
       "    <tr>\n",
       "      <th>3</th>\n",
       "      <td>19.0</td>\n",
       "      <td>200.0</td>\n",
       "      <td>10.0</td>\n",
       "      <td>11.0</td>\n",
       "      <td>4.0</td>\n",
       "      <td>42670.0</td>\n",
       "      <td>42670.0</td>\n",
       "      <td>0.0</td>\n",
       "    </tr>\n",
       "    <tr>\n",
       "      <th>4</th>\n",
       "      <td>56.0</td>\n",
       "      <td>200.0</td>\n",
       "      <td>13.0</td>\n",
       "      <td>11.0</td>\n",
       "      <td>5.0</td>\n",
       "      <td>42670.0</td>\n",
       "      <td>42670.0</td>\n",
       "      <td>0.0</td>\n",
       "    </tr>\n",
       "  </tbody>\n",
       "</table>\n",
       "</div>"
      ],
      "text/plain": [
       "   Segment   Mass  Samples count  Day hour  Duration  Start segment voltage  \\\n",
       "0     42.0  200.0           19.0      11.0       9.0                42670.0   \n",
       "1     41.0  200.0           43.0      11.0      22.0                42670.0   \n",
       "2      9.0  200.0           22.0      11.0      11.0                42670.0   \n",
       "3     19.0  200.0           10.0      11.0       4.0                42670.0   \n",
       "4     56.0  200.0           13.0      11.0       5.0                42670.0   \n",
       "\n",
       "   End segment voltage  Voltage delta  \n",
       "0              42670.0            0.0  \n",
       "1              42670.0            0.0  \n",
       "2              42670.0            0.0  \n",
       "3              42670.0            0.0  \n",
       "4              42670.0            0.0  "
      ]
     },
     "execution_count": 6,
     "metadata": {},
     "output_type": "execute_result"
    }
   ],
   "source": [
    "log_df(df_segments_route, \"train route in segments\");\n",
    "log_df(df_segments_dictionary, \"averaged segments statistics dictonary\");\n",
    "\n",
    "# Explicit ANN input\n",
    "df_segments_route.head(5)"
   ]
  },
  {
   "cell_type": "markdown",
   "id": "3340444c-3e8d-4b75-bd2d-585797462be4",
   "metadata": {},
   "source": [
    "Neural Network Building\n",
    "======================="
   ]
  },
  {
   "cell_type": "code",
   "execution_count": 7,
   "id": "200043ed-9abd-4286-acf9-f8f76da84b44",
   "metadata": {},
   "outputs": [],
   "source": [
    "import numpy as np;\n",
    "df = df_segments_route;\n",
    "\n",
    "step_name, step_config = SCENARIO[4]\n",
    "df_raw = data_preparation.execute(df, **step_config[\"processing\"])\n",
    "df_raw.index = np.arange(df_raw.shape[0]);\n",
    "df_raw.dropna(axis=0);"
   ]
  },
  {
   "cell_type": "code",
   "execution_count": 8,
   "id": "8a649e93-b9f4-4639-9bb6-b2490dea0e56",
   "metadata": {},
   "outputs": [
    {
     "name": "stdout",
     "output_type": "stream",
     "text": [
      "construct_ann: - build the ann\n"
     ]
    }
   ],
   "source": [
    "step_name, step_config = SCENARIO[5]\n",
    "ann_params = step_config[\"processing\"]\n",
    "\n",
    "print(f\"{step_name}: - build the ann\")\n",
    "log.debug(f\"Building with parameters: {ann_params}\")\n",
    "\n",
    "LEARN_COUNT = ann_params[\"learn_samples_count\"];\n",
    "PREDICT_COUNT = ann_params[\"forecasted_samples_count\"];\n",
    "INPUT_NEURONS_COUNT = ann_params[\"input_neurons_per_parameter\"];\n",
    "HIDDEN_NEURONS_COUNT = ann_params[\"hidden_layer_neurons_per_parameter\"];\n",
    "\n",
    "EPOCHS_COUNT = ann_params[\"epochs_count\"];\n",
    "COUNT_BATCH_SIZE = ann_params[\"batch_size\"];\n",
    "\n",
    "all_columns = ann_params[\"input_parameters\"];\n",
    "STATIC_PARAMETERS = ann_params[\"static_parameters\"]\n",
    "predicted_parameters = ann_params[\"forecast_parameters\"];\n"
   ]
  },
  {
   "cell_type": "code",
   "execution_count": 9,
   "id": "2fd060e1-71b8-4c35-9766-d25c3e7c6bd0",
   "metadata": {},
   "outputs": [
    {
     "data": {
      "text/plain": [
       "(400, 5)"
      ]
     },
     "execution_count": 9,
     "metadata": {},
     "output_type": "execute_result"
    }
   ],
   "source": [
    "from opTools.opUtils.data_preprocessing import normalize_data, re_normalize_data;\n",
    "df_raw = df_raw.loc[0:LEARN_COUNT + PREDICT_COUNT + INPUT_NEURONS_COUNT - 1 ,:]\n",
    "\n",
    "df1, min_max = normalize_data(df_raw);\n",
    "df1.shape"
   ]
  },
  {
   "cell_type": "code",
   "execution_count": 10,
   "id": "f8d6dcb9-7891-4dcc-b324-d3c66b9d2e50",
   "metadata": {},
   "outputs": [
    {
     "name": "stdout",
     "output_type": "stream",
     "text": [
      " -- Segment\n",
      " -- Samples count\n",
      " -- Duration\n",
      " -- Voltage delta\n",
      " -- Start segment voltage\n"
     ]
    }
   ],
   "source": [
    "from UTILS.anns_utils_py import df_to_shifted_tables, build_multiparamiters_model,predict_time_window_with_knowns;\n",
    "x_train, y_train, x_test, y_test = df_to_shifted_tables(df1, INPUT_NEURONS_COUNT, LEARN_COUNT)"
   ]
  },
  {
   "cell_type": "code",
   "execution_count": 11,
   "id": "341960b9-330e-428b-82c9-d3f7929ae8d2",
   "metadata": {},
   "outputs": [
    {
     "data": {
      "text/plain": [
       "((350, 5),\n",
       " (38, 5),\n",
       " Index(['Segment', 'Samples count', 'Duration', 'Voltage delta',\n",
       "        'Start segment voltage'],\n",
       "       dtype='object'))"
      ]
     },
     "execution_count": 11,
     "metadata": {},
     "output_type": "execute_result"
    }
   ],
   "source": [
    "(y_train.shape, y_test.shape, y_test.columns)"
   ]
  },
  {
   "cell_type": "code",
   "execution_count": 12,
   "id": "639f8760-4b94-4dda-b6bc-3f83d3ce56e4",
   "metadata": {},
   "outputs": [],
   "source": [
    "model = build_multiparamiters_model(all_columns, predicted_parameters, INPUT_NEURONS_COUNT, hiden_layer_neurons = HIDDEN_NEURONS_COUNT)"
   ]
  },
  {
   "cell_type": "markdown",
   "id": "73f09021-b398-4403-9a42-bf6aa3924bf8",
   "metadata": {},
   "source": [
    "Neural Network Training\n",
    "======================="
   ]
  },
  {
   "cell_type": "code",
   "execution_count": 23,
   "id": "8aa4f065-256f-4486-9639-4896b866a1c1",
   "metadata": {},
   "outputs": [
    {
     "name": "stdout",
     "output_type": "stream",
     "text": [
      "Epoch 1/50\n",
      "\u001b[1m24/24\u001b[0m \u001b[32m━━━━━━━━━━━━━━━━━━━━\u001b[0m\u001b[37m\u001b[0m \u001b[1m1s\u001b[0m 31ms/step - loss: 2.7569e-04 - mean_absolute_error: 0.0128\n",
      "Epoch 2/50\n",
      "\u001b[1m24/24\u001b[0m \u001b[32m━━━━━━━━━━━━━━━━━━━━\u001b[0m\u001b[37m\u001b[0m \u001b[1m1s\u001b[0m 30ms/step - loss: 2.9767e-04 - mean_absolute_error: 0.0136\n",
      "Epoch 3/50\n",
      "\u001b[1m24/24\u001b[0m \u001b[32m━━━━━━━━━━━━━━━━━━━━\u001b[0m\u001b[37m\u001b[0m \u001b[1m1s\u001b[0m 29ms/step - loss: 2.9393e-04 - mean_absolute_error: 0.0135\n",
      "Epoch 4/50\n",
      "\u001b[1m24/24\u001b[0m \u001b[32m━━━━━━━━━━━━━━━━━━━━\u001b[0m\u001b[37m\u001b[0m \u001b[1m1s\u001b[0m 31ms/step - loss: 2.3908e-04 - mean_absolute_error: 0.0119\n",
      "Epoch 5/50\n",
      "\u001b[1m24/24\u001b[0m \u001b[32m━━━━━━━━━━━━━━━━━━━━\u001b[0m\u001b[37m\u001b[0m \u001b[1m1s\u001b[0m 32ms/step - loss: 2.3079e-04 - mean_absolute_error: 0.0118\n",
      "Epoch 6/50\n",
      "\u001b[1m24/24\u001b[0m \u001b[32m━━━━━━━━━━━━━━━━━━━━\u001b[0m\u001b[37m\u001b[0m \u001b[1m1s\u001b[0m 30ms/step - loss: 2.1323e-04 - mean_absolute_error: 0.0115\n",
      "Epoch 7/50\n",
      "\u001b[1m24/24\u001b[0m \u001b[32m━━━━━━━━━━━━━━━━━━━━\u001b[0m\u001b[37m\u001b[0m \u001b[1m1s\u001b[0m 32ms/step - loss: 2.6396e-04 - mean_absolute_error: 0.0130\n",
      "Epoch 8/50\n",
      "\u001b[1m24/24\u001b[0m \u001b[32m━━━━━━━━━━━━━━━━━━━━\u001b[0m\u001b[37m\u001b[0m \u001b[1m1s\u001b[0m 30ms/step - loss: 2.1113e-04 - mean_absolute_error: 0.0114\n",
      "Epoch 9/50\n",
      "\u001b[1m24/24\u001b[0m \u001b[32m━━━━━━━━━━━━━━━━━━━━\u001b[0m\u001b[37m\u001b[0m \u001b[1m1s\u001b[0m 33ms/step - loss: 1.6844e-04 - mean_absolute_error: 0.0103\n",
      "Epoch 10/50\n",
      "\u001b[1m24/24\u001b[0m \u001b[32m━━━━━━━━━━━━━━━━━━━━\u001b[0m\u001b[37m\u001b[0m \u001b[1m1s\u001b[0m 31ms/step - loss: 1.9223e-04 - mean_absolute_error: 0.0107\n",
      "Epoch 11/50\n",
      "\u001b[1m24/24\u001b[0m \u001b[32m━━━━━━━━━━━━━━━━━━━━\u001b[0m\u001b[37m\u001b[0m \u001b[1m1s\u001b[0m 31ms/step - loss: 1.8407e-04 - mean_absolute_error: 0.0108\n",
      "Epoch 12/50\n",
      "\u001b[1m24/24\u001b[0m \u001b[32m━━━━━━━━━━━━━━━━━━━━\u001b[0m\u001b[37m\u001b[0m \u001b[1m1s\u001b[0m 32ms/step - loss: 1.8149e-04 - mean_absolute_error: 0.0102\n",
      "Epoch 13/50\n",
      "\u001b[1m24/24\u001b[0m \u001b[32m━━━━━━━━━━━━━━━━━━━━\u001b[0m\u001b[37m\u001b[0m \u001b[1m1s\u001b[0m 30ms/step - loss: 1.6549e-04 - mean_absolute_error: 0.0104\n",
      "Epoch 14/50\n",
      "\u001b[1m24/24\u001b[0m \u001b[32m━━━━━━━━━━━━━━━━━━━━\u001b[0m\u001b[37m\u001b[0m \u001b[1m1s\u001b[0m 31ms/step - loss: 1.8599e-04 - mean_absolute_error: 0.0109\n",
      "Epoch 15/50\n",
      "\u001b[1m24/24\u001b[0m \u001b[32m━━━━━━━━━━━━━━━━━━━━\u001b[0m\u001b[37m\u001b[0m \u001b[1m1s\u001b[0m 30ms/step - loss: 1.6782e-04 - mean_absolute_error: 0.0102\n",
      "Epoch 16/50\n",
      "\u001b[1m24/24\u001b[0m \u001b[32m━━━━━━━━━━━━━━━━━━━━\u001b[0m\u001b[37m\u001b[0m \u001b[1m1s\u001b[0m 31ms/step - loss: 1.6715e-04 - mean_absolute_error: 0.0101\n",
      "Epoch 17/50\n",
      "\u001b[1m24/24\u001b[0m \u001b[32m━━━━━━━━━━━━━━━━━━━━\u001b[0m\u001b[37m\u001b[0m \u001b[1m1s\u001b[0m 31ms/step - loss: 1.6403e-04 - mean_absolute_error: 0.0102\n",
      "Epoch 18/50\n",
      "\u001b[1m24/24\u001b[0m \u001b[32m━━━━━━━━━━━━━━━━━━━━\u001b[0m\u001b[37m\u001b[0m \u001b[1m1s\u001b[0m 40ms/step - loss: 1.6110e-04 - mean_absolute_error: 0.0100\n",
      "Epoch 19/50\n",
      "\u001b[1m24/24\u001b[0m \u001b[32m━━━━━━━━━━━━━━━━━━━━\u001b[0m\u001b[37m\u001b[0m \u001b[1m2s\u001b[0m 81ms/step - loss: 1.4506e-04 - mean_absolute_error: 0.0092\n",
      "Epoch 20/50\n",
      "\u001b[1m24/24\u001b[0m \u001b[32m━━━━━━━━━━━━━━━━━━━━\u001b[0m\u001b[37m\u001b[0m \u001b[1m1s\u001b[0m 34ms/step - loss: 1.3394e-04 - mean_absolute_error: 0.0090\n",
      "Epoch 21/50\n",
      "\u001b[1m24/24\u001b[0m \u001b[32m━━━━━━━━━━━━━━━━━━━━\u001b[0m\u001b[37m\u001b[0m \u001b[1m1s\u001b[0m 31ms/step - loss: 1.3475e-04 - mean_absolute_error: 0.0091\n",
      "Epoch 22/50\n",
      "\u001b[1m24/24\u001b[0m \u001b[32m━━━━━━━━━━━━━━━━━━━━\u001b[0m\u001b[37m\u001b[0m \u001b[1m1s\u001b[0m 33ms/step - loss: 1.1725e-04 - mean_absolute_error: 0.0083\n",
      "Epoch 23/50\n",
      "\u001b[1m24/24\u001b[0m \u001b[32m━━━━━━━━━━━━━━━━━━━━\u001b[0m\u001b[37m\u001b[0m \u001b[1m1s\u001b[0m 62ms/step - loss: 1.0968e-04 - mean_absolute_error: 0.0080\n",
      "Epoch 24/50\n",
      "\u001b[1m24/24\u001b[0m \u001b[32m━━━━━━━━━━━━━━━━━━━━\u001b[0m\u001b[37m\u001b[0m \u001b[1m1s\u001b[0m 39ms/step - loss: 1.0596e-04 - mean_absolute_error: 0.0080\n",
      "Epoch 25/50\n",
      "\u001b[1m24/24\u001b[0m \u001b[32m━━━━━━━━━━━━━━━━━━━━\u001b[0m\u001b[37m\u001b[0m \u001b[1m1s\u001b[0m 33ms/step - loss: 1.3281e-04 - mean_absolute_error: 0.0090\n",
      "Epoch 26/50\n",
      "\u001b[1m24/24\u001b[0m \u001b[32m━━━━━━━━━━━━━━━━━━━━\u001b[0m\u001b[37m\u001b[0m \u001b[1m1s\u001b[0m 32ms/step - loss: 1.1762e-04 - mean_absolute_error: 0.0083\n",
      "Epoch 27/50\n",
      "\u001b[1m24/24\u001b[0m \u001b[32m━━━━━━━━━━━━━━━━━━━━\u001b[0m\u001b[37m\u001b[0m \u001b[1m1s\u001b[0m 34ms/step - loss: 9.7414e-05 - mean_absolute_error: 0.0076\n",
      "Epoch 28/50\n",
      "\u001b[1m24/24\u001b[0m \u001b[32m━━━━━━━━━━━━━━━━━━━━\u001b[0m\u001b[37m\u001b[0m \u001b[1m1s\u001b[0m 34ms/step - loss: 1.4264e-04 - mean_absolute_error: 0.0097\n",
      "Epoch 29/50\n",
      "\u001b[1m24/24\u001b[0m \u001b[32m━━━━━━━━━━━━━━━━━━━━\u001b[0m\u001b[37m\u001b[0m \u001b[1m1s\u001b[0m 37ms/step - loss: 9.9898e-05 - mean_absolute_error: 0.0079\n",
      "Epoch 30/50\n",
      "\u001b[1m24/24\u001b[0m \u001b[32m━━━━━━━━━━━━━━━━━━━━\u001b[0m\u001b[37m\u001b[0m \u001b[1m1s\u001b[0m 39ms/step - loss: 9.1827e-05 - mean_absolute_error: 0.0075\n",
      "Epoch 31/50\n",
      "\u001b[1m24/24\u001b[0m \u001b[32m━━━━━━━━━━━━━━━━━━━━\u001b[0m\u001b[37m\u001b[0m \u001b[1m1s\u001b[0m 34ms/step - loss: 1.0107e-04 - mean_absolute_error: 0.0078\n",
      "Epoch 32/50\n",
      "\u001b[1m24/24\u001b[0m \u001b[32m━━━━━━━━━━━━━━━━━━━━\u001b[0m\u001b[37m\u001b[0m \u001b[1m1s\u001b[0m 39ms/step - loss: 8.9031e-05 - mean_absolute_error: 0.0075\n",
      "Epoch 33/50\n",
      "\u001b[1m24/24\u001b[0m \u001b[32m━━━━━━━━━━━━━━━━━━━━\u001b[0m\u001b[37m\u001b[0m \u001b[1m1s\u001b[0m 38ms/step - loss: 1.0118e-04 - mean_absolute_error: 0.0081\n",
      "Epoch 34/50\n",
      "\u001b[1m24/24\u001b[0m \u001b[32m━━━━━━━━━━━━━━━━━━━━\u001b[0m\u001b[37m\u001b[0m \u001b[1m1s\u001b[0m 31ms/step - loss: 9.0856e-05 - mean_absolute_error: 0.0075\n",
      "Epoch 35/50\n",
      "\u001b[1m24/24\u001b[0m \u001b[32m━━━━━━━━━━━━━━━━━━━━\u001b[0m\u001b[37m\u001b[0m \u001b[1m1s\u001b[0m 34ms/step - loss: 9.2508e-05 - mean_absolute_error: 0.0075\n",
      "Epoch 36/50\n",
      "\u001b[1m24/24\u001b[0m \u001b[32m━━━━━━━━━━━━━━━━━━━━\u001b[0m\u001b[37m\u001b[0m \u001b[1m1s\u001b[0m 29ms/step - loss: 8.5675e-05 - mean_absolute_error: 0.0071\n",
      "Epoch 37/50\n",
      "\u001b[1m24/24\u001b[0m \u001b[32m━━━━━━━━━━━━━━━━━━━━\u001b[0m\u001b[37m\u001b[0m \u001b[1m1s\u001b[0m 40ms/step - loss: 7.6986e-05 - mean_absolute_error: 0.0068\n",
      "Epoch 38/50\n",
      "\u001b[1m24/24\u001b[0m \u001b[32m━━━━━━━━━━━━━━━━━━━━\u001b[0m\u001b[37m\u001b[0m \u001b[1m1s\u001b[0m 38ms/step - loss: 6.9381e-05 - mean_absolute_error: 0.0066\n",
      "Epoch 39/50\n",
      "\u001b[1m24/24\u001b[0m \u001b[32m━━━━━━━━━━━━━━━━━━━━\u001b[0m\u001b[37m\u001b[0m \u001b[1m1s\u001b[0m 37ms/step - loss: 7.5748e-05 - mean_absolute_error: 0.0068\n",
      "Epoch 40/50\n",
      "\u001b[1m24/24\u001b[0m \u001b[32m━━━━━━━━━━━━━━━━━━━━\u001b[0m\u001b[37m\u001b[0m \u001b[1m1s\u001b[0m 39ms/step - loss: 8.1793e-05 - mean_absolute_error: 0.0072\n",
      "Epoch 41/50\n",
      "\u001b[1m24/24\u001b[0m \u001b[32m━━━━━━━━━━━━━━━━━━━━\u001b[0m\u001b[37m\u001b[0m \u001b[1m1s\u001b[0m 50ms/step - loss: 8.3975e-05 - mean_absolute_error: 0.0072\n",
      "Epoch 42/50\n",
      "\u001b[1m24/24\u001b[0m \u001b[32m━━━━━━━━━━━━━━━━━━━━\u001b[0m\u001b[37m\u001b[0m \u001b[1m1s\u001b[0m 56ms/step - loss: 9.2576e-05 - mean_absolute_error: 0.0074\n",
      "Epoch 43/50\n",
      "\u001b[1m24/24\u001b[0m \u001b[32m━━━━━━━━━━━━━━━━━━━━\u001b[0m\u001b[37m\u001b[0m \u001b[1m1s\u001b[0m 33ms/step - loss: 8.2884e-05 - mean_absolute_error: 0.0071\n",
      "Epoch 44/50\n",
      "\u001b[1m24/24\u001b[0m \u001b[32m━━━━━━━━━━━━━━━━━━━━\u001b[0m\u001b[37m\u001b[0m \u001b[1m1s\u001b[0m 42ms/step - loss: 8.7764e-05 - mean_absolute_error: 0.0076\n",
      "Epoch 45/50\n",
      "\u001b[1m24/24\u001b[0m \u001b[32m━━━━━━━━━━━━━━━━━━━━\u001b[0m\u001b[37m\u001b[0m \u001b[1m1s\u001b[0m 34ms/step - loss: 1.1754e-04 - mean_absolute_error: 0.0087\n",
      "Epoch 46/50\n",
      "\u001b[1m24/24\u001b[0m \u001b[32m━━━━━━━━━━━━━━━━━━━━\u001b[0m\u001b[37m\u001b[0m \u001b[1m1s\u001b[0m 39ms/step - loss: 7.4596e-05 - mean_absolute_error: 0.0068\n",
      "Epoch 47/50\n",
      "\u001b[1m24/24\u001b[0m \u001b[32m━━━━━━━━━━━━━━━━━━━━\u001b[0m\u001b[37m\u001b[0m \u001b[1m1s\u001b[0m 27ms/step - loss: 1.0549e-04 - mean_absolute_error: 0.0081\n",
      "Epoch 48/50\n",
      "\u001b[1m24/24\u001b[0m \u001b[32m━━━━━━━━━━━━━━━━━━━━\u001b[0m\u001b[37m\u001b[0m \u001b[1m1s\u001b[0m 30ms/step - loss: 7.6363e-05 - mean_absolute_error: 0.0071\n",
      "Epoch 49/50\n",
      "\u001b[1m24/24\u001b[0m \u001b[32m━━━━━━━━━━━━━━━━━━━━\u001b[0m\u001b[37m\u001b[0m \u001b[1m1s\u001b[0m 35ms/step - loss: 6.4121e-05 - mean_absolute_error: 0.0063\n",
      "Epoch 50/50\n",
      "\u001b[1m24/24\u001b[0m \u001b[32m━━━━━━━━━━━━━━━━━━━━\u001b[0m\u001b[37m\u001b[0m \u001b[1m1s\u001b[0m 38ms/step - loss: 6.0106e-05 - mean_absolute_error: 0.0061\n",
      "1713902289.6447308 ...  1713902334.464368 => 44.819637298583984\n"
     ]
    },
    {
     "data": {
      "text/html": [
       "<pre style=\"white-space:pre;overflow-x:auto;line-height:normal;font-family:Menlo,'DejaVu Sans Mono',consolas,'Courier New',monospace\"><span style=\"font-weight: bold\">Model: \"functional_1\"</span>\n",
       "</pre>\n"
      ],
      "text/plain": [
       "\u001b[1mModel: \"functional_1\"\u001b[0m\n"
      ]
     },
     "metadata": {},
     "output_type": "display_data"
    },
    {
     "data": {
      "text/html": [
       "<pre style=\"white-space:pre;overflow-x:auto;line-height:normal;font-family:Menlo,'DejaVu Sans Mono',consolas,'Courier New',monospace\">┏━━━━━━━━━━━━━━━━━━━━━┳━━━━━━━━━━━━━━━━━━━┳━━━━━━━━━━━━┳━━━━━━━━━━━━━━━━━━━┓\n",
       "┃<span style=\"font-weight: bold\"> Layer (type)        </span>┃<span style=\"font-weight: bold\"> Output Shape      </span>┃<span style=\"font-weight: bold\">    Param # </span>┃<span style=\"font-weight: bold\"> Connected to      </span>┃\n",
       "┡━━━━━━━━━━━━━━━━━━━━━╇━━━━━━━━━━━━━━━━━━━╇━━━━━━━━━━━━╇━━━━━━━━━━━━━━━━━━━┩\n",
       "│ Inp_Segment         │ (<span style=\"color: #00d7ff; text-decoration-color: #00d7ff\">None</span>, <span style=\"color: #00af00; text-decoration-color: #00af00\">12</span>)        │          <span style=\"color: #00af00; text-decoration-color: #00af00\">0</span> │ -                 │\n",
       "│ (<span style=\"color: #0087ff; text-decoration-color: #0087ff\">InputLayer</span>)        │                   │            │                   │\n",
       "├─────────────────────┼───────────────────┼────────────┼───────────────────┤\n",
       "│ Inp_Samples_count   │ (<span style=\"color: #00d7ff; text-decoration-color: #00d7ff\">None</span>, <span style=\"color: #00af00; text-decoration-color: #00af00\">12</span>)        │          <span style=\"color: #00af00; text-decoration-color: #00af00\">0</span> │ -                 │\n",
       "│ (<span style=\"color: #0087ff; text-decoration-color: #0087ff\">InputLayer</span>)        │                   │            │                   │\n",
       "├─────────────────────┼───────────────────┼────────────┼───────────────────┤\n",
       "│ Inp_Duration        │ (<span style=\"color: #00d7ff; text-decoration-color: #00d7ff\">None</span>, <span style=\"color: #00af00; text-decoration-color: #00af00\">12</span>)        │          <span style=\"color: #00af00; text-decoration-color: #00af00\">0</span> │ -                 │\n",
       "│ (<span style=\"color: #0087ff; text-decoration-color: #0087ff\">InputLayer</span>)        │                   │            │                   │\n",
       "├─────────────────────┼───────────────────┼────────────┼───────────────────┤\n",
       "│ Inp_Voltage_delta   │ (<span style=\"color: #00d7ff; text-decoration-color: #00d7ff\">None</span>, <span style=\"color: #00af00; text-decoration-color: #00af00\">12</span>)        │          <span style=\"color: #00af00; text-decoration-color: #00af00\">0</span> │ -                 │\n",
       "│ (<span style=\"color: #0087ff; text-decoration-color: #0087ff\">InputLayer</span>)        │                   │            │                   │\n",
       "├─────────────────────┼───────────────────┼────────────┼───────────────────┤\n",
       "│ Inp_Start_segment_… │ (<span style=\"color: #00d7ff; text-decoration-color: #00d7ff\">None</span>, <span style=\"color: #00af00; text-decoration-color: #00af00\">12</span>)        │          <span style=\"color: #00af00; text-decoration-color: #00af00\">0</span> │ -                 │\n",
       "│ (<span style=\"color: #0087ff; text-decoration-color: #0087ff\">InputLayer</span>)        │                   │            │                   │\n",
       "├─────────────────────┼───────────────────┼────────────┼───────────────────┤\n",
       "│ concatenate         │ (<span style=\"color: #00d7ff; text-decoration-color: #00d7ff\">None</span>, <span style=\"color: #00af00; text-decoration-color: #00af00\">60</span>)        │          <span style=\"color: #00af00; text-decoration-color: #00af00\">0</span> │ Inp_Segment[<span style=\"color: #00af00; text-decoration-color: #00af00\">0</span>][<span style=\"color: #00af00; text-decoration-color: #00af00\">0</span>… │\n",
       "│ (<span style=\"color: #0087ff; text-decoration-color: #0087ff\">Concatenate</span>)       │                   │            │ Inp_Samples_coun… │\n",
       "│                     │                   │            │ Inp_Duration[<span style=\"color: #00af00; text-decoration-color: #00af00\">0</span>][<span style=\"color: #00af00; text-decoration-color: #00af00\">…</span> │\n",
       "│                     │                   │            │ Inp_Voltage_delt… │\n",
       "│                     │                   │            │ Inp_Start_segmen… │\n",
       "├─────────────────────┼───────────────────┼────────────┼───────────────────┤\n",
       "│ mid_Start_segment_… │ (<span style=\"color: #00d7ff; text-decoration-color: #00d7ff\">None</span>, <span style=\"color: #00af00; text-decoration-color: #00af00\">17</span>)        │      <span style=\"color: #00af00; text-decoration-color: #00af00\">1,037</span> │ concatenate[<span style=\"color: #00af00; text-decoration-color: #00af00\">0</span>][<span style=\"color: #00af00; text-decoration-color: #00af00\">0</span>] │\n",
       "│ (<span style=\"color: #0087ff; text-decoration-color: #0087ff\">Dense</span>)             │                   │            │                   │\n",
       "├─────────────────────┼───────────────────┼────────────┼───────────────────┤\n",
       "│ out_Start_segment_… │ (<span style=\"color: #00d7ff; text-decoration-color: #00d7ff\">None</span>, <span style=\"color: #00af00; text-decoration-color: #00af00\">1</span>)         │         <span style=\"color: #00af00; text-decoration-color: #00af00\">18</span> │ mid_Start_segmen… │\n",
       "│ (<span style=\"color: #0087ff; text-decoration-color: #0087ff\">Dense</span>)             │                   │            │                   │\n",
       "└─────────────────────┴───────────────────┴────────────┴───────────────────┘\n",
       "</pre>\n"
      ],
      "text/plain": [
       "┏━━━━━━━━━━━━━━━━━━━━━┳━━━━━━━━━━━━━━━━━━━┳━━━━━━━━━━━━┳━━━━━━━━━━━━━━━━━━━┓\n",
       "┃\u001b[1m \u001b[0m\u001b[1mLayer (type)       \u001b[0m\u001b[1m \u001b[0m┃\u001b[1m \u001b[0m\u001b[1mOutput Shape     \u001b[0m\u001b[1m \u001b[0m┃\u001b[1m \u001b[0m\u001b[1m   Param #\u001b[0m\u001b[1m \u001b[0m┃\u001b[1m \u001b[0m\u001b[1mConnected to     \u001b[0m\u001b[1m \u001b[0m┃\n",
       "┡━━━━━━━━━━━━━━━━━━━━━╇━━━━━━━━━━━━━━━━━━━╇━━━━━━━━━━━━╇━━━━━━━━━━━━━━━━━━━┩\n",
       "│ Inp_Segment         │ (\u001b[38;5;45mNone\u001b[0m, \u001b[38;5;34m12\u001b[0m)        │          \u001b[38;5;34m0\u001b[0m │ -                 │\n",
       "│ (\u001b[38;5;33mInputLayer\u001b[0m)        │                   │            │                   │\n",
       "├─────────────────────┼───────────────────┼────────────┼───────────────────┤\n",
       "│ Inp_Samples_count   │ (\u001b[38;5;45mNone\u001b[0m, \u001b[38;5;34m12\u001b[0m)        │          \u001b[38;5;34m0\u001b[0m │ -                 │\n",
       "│ (\u001b[38;5;33mInputLayer\u001b[0m)        │                   │            │                   │\n",
       "├─────────────────────┼───────────────────┼────────────┼───────────────────┤\n",
       "│ Inp_Duration        │ (\u001b[38;5;45mNone\u001b[0m, \u001b[38;5;34m12\u001b[0m)        │          \u001b[38;5;34m0\u001b[0m │ -                 │\n",
       "│ (\u001b[38;5;33mInputLayer\u001b[0m)        │                   │            │                   │\n",
       "├─────────────────────┼───────────────────┼────────────┼───────────────────┤\n",
       "│ Inp_Voltage_delta   │ (\u001b[38;5;45mNone\u001b[0m, \u001b[38;5;34m12\u001b[0m)        │          \u001b[38;5;34m0\u001b[0m │ -                 │\n",
       "│ (\u001b[38;5;33mInputLayer\u001b[0m)        │                   │            │                   │\n",
       "├─────────────────────┼───────────────────┼────────────┼───────────────────┤\n",
       "│ Inp_Start_segment_… │ (\u001b[38;5;45mNone\u001b[0m, \u001b[38;5;34m12\u001b[0m)        │          \u001b[38;5;34m0\u001b[0m │ -                 │\n",
       "│ (\u001b[38;5;33mInputLayer\u001b[0m)        │                   │            │                   │\n",
       "├─────────────────────┼───────────────────┼────────────┼───────────────────┤\n",
       "│ concatenate         │ (\u001b[38;5;45mNone\u001b[0m, \u001b[38;5;34m60\u001b[0m)        │          \u001b[38;5;34m0\u001b[0m │ Inp_Segment[\u001b[38;5;34m0\u001b[0m][\u001b[38;5;34m0\u001b[0m… │\n",
       "│ (\u001b[38;5;33mConcatenate\u001b[0m)       │                   │            │ Inp_Samples_coun… │\n",
       "│                     │                   │            │ Inp_Duration[\u001b[38;5;34m0\u001b[0m][\u001b[38;5;34m…\u001b[0m │\n",
       "│                     │                   │            │ Inp_Voltage_delt… │\n",
       "│                     │                   │            │ Inp_Start_segmen… │\n",
       "├─────────────────────┼───────────────────┼────────────┼───────────────────┤\n",
       "│ mid_Start_segment_… │ (\u001b[38;5;45mNone\u001b[0m, \u001b[38;5;34m17\u001b[0m)        │      \u001b[38;5;34m1,037\u001b[0m │ concatenate[\u001b[38;5;34m0\u001b[0m][\u001b[38;5;34m0\u001b[0m] │\n",
       "│ (\u001b[38;5;33mDense\u001b[0m)             │                   │            │                   │\n",
       "├─────────────────────┼───────────────────┼────────────┼───────────────────┤\n",
       "│ out_Start_segment_… │ (\u001b[38;5;45mNone\u001b[0m, \u001b[38;5;34m1\u001b[0m)         │         \u001b[38;5;34m18\u001b[0m │ mid_Start_segmen… │\n",
       "│ (\u001b[38;5;33mDense\u001b[0m)             │                   │            │                   │\n",
       "└─────────────────────┴───────────────────┴────────────┴───────────────────┘\n"
      ]
     },
     "metadata": {},
     "output_type": "display_data"
    },
    {
     "data": {
      "text/html": [
       "<pre style=\"white-space:pre;overflow-x:auto;line-height:normal;font-family:Menlo,'DejaVu Sans Mono',consolas,'Courier New',monospace\"><span style=\"font-weight: bold\"> Total params: </span><span style=\"color: #00af00; text-decoration-color: #00af00\">3,167</span> (12.38 KB)\n",
       "</pre>\n"
      ],
      "text/plain": [
       "\u001b[1m Total params: \u001b[0m\u001b[38;5;34m3,167\u001b[0m (12.38 KB)\n"
      ]
     },
     "metadata": {},
     "output_type": "display_data"
    },
    {
     "data": {
      "text/html": [
       "<pre style=\"white-space:pre;overflow-x:auto;line-height:normal;font-family:Menlo,'DejaVu Sans Mono',consolas,'Courier New',monospace\"><span style=\"font-weight: bold\"> Trainable params: </span><span style=\"color: #00af00; text-decoration-color: #00af00\">1,055</span> (4.12 KB)\n",
       "</pre>\n"
      ],
      "text/plain": [
       "\u001b[1m Trainable params: \u001b[0m\u001b[38;5;34m1,055\u001b[0m (4.12 KB)\n"
      ]
     },
     "metadata": {},
     "output_type": "display_data"
    },
    {
     "data": {
      "text/html": [
       "<pre style=\"white-space:pre;overflow-x:auto;line-height:normal;font-family:Menlo,'DejaVu Sans Mono',consolas,'Courier New',monospace\"><span style=\"font-weight: bold\"> Non-trainable params: </span><span style=\"color: #00af00; text-decoration-color: #00af00\">0</span> (0.00 B)\n",
       "</pre>\n"
      ],
      "text/plain": [
       "\u001b[1m Non-trainable params: \u001b[0m\u001b[38;5;34m0\u001b[0m (0.00 B)\n"
      ]
     },
     "metadata": {},
     "output_type": "display_data"
    },
    {
     "data": {
      "text/html": [
       "<pre style=\"white-space:pre;overflow-x:auto;line-height:normal;font-family:Menlo,'DejaVu Sans Mono',consolas,'Courier New',monospace\"><span style=\"font-weight: bold\"> Optimizer params: </span><span style=\"color: #00af00; text-decoration-color: #00af00\">2,112</span> (8.25 KB)\n",
       "</pre>\n"
      ],
      "text/plain": [
       "\u001b[1m Optimizer params: \u001b[0m\u001b[38;5;34m2,112\u001b[0m (8.25 KB)\n"
      ]
     },
     "metadata": {},
     "output_type": "display_data"
    }
   ],
   "source": [
    "import time\n",
    "start = time.time()\n",
    "epochs_hist = model.fit(x_train, y_train[predicted_parameters], epochs = EPOCHS_COUNT, batch_size = COUNT_BATCH_SIZE)\n",
    "end = time.time()\n",
    "print(start,'... ',end, '=>', (end-start))\n",
    "\n",
    "model.summary()"
   ]
  },
  {
   "cell_type": "code",
   "execution_count": 24,
   "id": "c2b2f1f1-4c01-4b0b-b763-1457a3692015",
   "metadata": {},
   "outputs": [
    {
     "name": "stdout",
     "output_type": "stream",
     "text": [
      "\u001b[1m2/2\u001b[0m \u001b[32m━━━━━━━━━━━━━━━━━━━━\u001b[0m\u001b[37m\u001b[0m \u001b[1m0s\u001b[0m 11ms/step - loss: 0.0013 - mean_absolute_error: 0.0214    \n"
     ]
    }
   ],
   "source": [
    "# assessment of the quality of the model on the test set\n",
    "scores = model.evaluate(x_test, y_test[predicted_parameters])\n"
   ]
  },
  {
   "cell_type": "markdown",
   "id": "b37be190-0d15-42b6-9491-d9818c2a07f1",
   "metadata": {},
   "source": [
    "Forecasts:\n",
    "=========="
   ]
  },
  {
   "cell_type": "markdown",
   "id": "64549d32-5e90-49ee-84a2-f42f48cc51b4",
   "metadata": {},
   "source": [
    "- Test ANN\n",
    "  --------"
   ]
  },
  {
   "cell_type": "code",
   "execution_count": 25,
   "id": "e573e7b7-e77c-48d1-a217-472a8d98e3f1",
   "metadata": {},
   "outputs": [
    {
     "name": "stdout",
     "output_type": "stream",
     "text": [
      "\u001b[1m2/2\u001b[0m \u001b[32m━━━━━━━━━━━━━━━━━━━━\u001b[0m\u001b[37m\u001b[0m \u001b[1m0s\u001b[0m 7ms/step \n"
     ]
    }
   ],
   "source": [
    "ann_test = model.predict(x_test)\n"
   ]
  },
  {
   "cell_type": "markdown",
   "id": "b6ae4e07-61ef-4ed6-ab00-69605a3ec89f",
   "metadata": {},
   "source": [
    "- Forecast with the time-windows method\n",
    "  -------------------------------------"
   ]
  },
  {
   "cell_type": "code",
   "execution_count": 26,
   "id": "854c14de-e916-4c96-b265-227c00dd1c51",
   "metadata": {},
   "outputs": [
    {
     "name": "stdout",
     "output_type": "stream",
     "text": [
      "(350, 5)\n",
      " -- Segment\n",
      " -- Samples count\n",
      " -- Duration\n",
      " -- Voltage delta\n",
      " -- Start segment voltage\n",
      "\u001b[1m1/1\u001b[0m \u001b[32m━━━━━━━━━━━━━━━━━━━━\u001b[0m\u001b[37m\u001b[0m \u001b[1m0s\u001b[0m 22ms/step\n",
      " -- Segment\n",
      " -- Samples count\n",
      " -- Duration\n",
      " -- Voltage delta\n",
      " -- Start segment voltage\n",
      "\u001b[1m1/1\u001b[0m \u001b[32m━━━━━━━━━━━━━━━━━━━━\u001b[0m\u001b[37m\u001b[0m \u001b[1m0s\u001b[0m 23ms/step\n",
      " -- Segment\n",
      " -- Samples count\n",
      " -- Duration\n",
      " -- Voltage delta\n",
      " -- Start segment voltage\n"
     ]
    },
    {
     "name": "stderr",
     "output_type": "stream",
     "text": [
      "/Users/ozabolotnyy/myProjects/OLENA/plPolitech/PyANN/Archive_2/UTILS/anns_utils_py.py:54: FutureWarning: The behavior of DataFrame concatenation with empty or all-NA entries is deprecated. In a future version, this will no longer exclude empty or all-NA columns when determining the result dtypes. To retain the old behavior, exclude the relevant entries before the concat operation.\n",
      "  df_predictions = pd.concat([df_predictions, df_predicted]);\n"
     ]
    },
    {
     "name": "stdout",
     "output_type": "stream",
     "text": [
      "\u001b[1m1/1\u001b[0m \u001b[32m━━━━━━━━━━━━━━━━━━━━\u001b[0m\u001b[37m\u001b[0m \u001b[1m0s\u001b[0m 23ms/step\n",
      " -- Segment\n",
      " -- Samples count\n",
      " -- Duration\n",
      " -- Voltage delta\n",
      " -- Start segment voltage\n",
      "\u001b[1m1/1\u001b[0m \u001b[32m━━━━━━━━━━━━━━━━━━━━\u001b[0m\u001b[37m\u001b[0m \u001b[1m0s\u001b[0m 24ms/step\n",
      " -- Segment\n",
      " -- Samples count\n",
      " -- Duration\n",
      " -- Voltage delta\n",
      " -- Start segment voltage\n",
      "\u001b[1m1/1\u001b[0m \u001b[32m━━━━━━━━━━━━━━━━━━━━\u001b[0m\u001b[37m\u001b[0m \u001b[1m0s\u001b[0m 23ms/step\n",
      " -- Segment\n",
      " -- Samples count\n",
      " -- Duration\n",
      " -- Voltage delta\n",
      " -- Start segment voltage\n",
      "\u001b[1m1/1\u001b[0m \u001b[32m━━━━━━━━━━━━━━━━━━━━\u001b[0m\u001b[37m\u001b[0m \u001b[1m0s\u001b[0m 25ms/step\n",
      " -- Segment\n",
      " -- Samples count\n",
      " -- Duration\n",
      " -- Voltage delta\n",
      " -- Start segment voltage\n",
      "\u001b[1m1/1\u001b[0m \u001b[32m━━━━━━━━━━━━━━━━━━━━\u001b[0m\u001b[37m\u001b[0m \u001b[1m0s\u001b[0m 22ms/step\n",
      " -- Segment\n",
      " -- Samples count\n",
      " -- Duration\n",
      " -- Voltage delta\n",
      " -- Start segment voltage\n",
      "\u001b[1m1/1\u001b[0m \u001b[32m━━━━━━━━━━━━━━━━━━━━\u001b[0m\u001b[37m\u001b[0m \u001b[1m0s\u001b[0m 36ms/step\n",
      " -- Segment\n",
      " -- Samples count\n",
      " -- Duration\n",
      " -- Voltage delta\n",
      " -- Start segment voltage\n",
      "\u001b[1m1/1\u001b[0m \u001b[32m━━━━━━━━━━━━━━━━━━━━\u001b[0m\u001b[37m\u001b[0m \u001b[1m0s\u001b[0m 27ms/step\n",
      " -- Segment\n",
      " -- Samples count\n",
      " -- Duration\n",
      " -- Voltage delta\n",
      " -- Start segment voltage\n",
      "\u001b[1m1/1\u001b[0m \u001b[32m━━━━━━━━━━━━━━━━━━━━\u001b[0m\u001b[37m\u001b[0m \u001b[1m0s\u001b[0m 33ms/step\n",
      " -- Segment\n",
      " -- Samples count\n",
      " -- Duration\n",
      " -- Voltage delta\n",
      " -- Start segment voltage\n",
      "\u001b[1m1/1\u001b[0m \u001b[32m━━━━━━━━━━━━━━━━━━━━\u001b[0m\u001b[37m\u001b[0m \u001b[1m0s\u001b[0m 28ms/step\n",
      " -- Segment\n",
      " -- Samples count\n",
      " -- Duration\n",
      " -- Voltage delta\n",
      " -- Start segment voltage\n",
      "\u001b[1m1/1\u001b[0m \u001b[32m━━━━━━━━━━━━━━━━━━━━\u001b[0m\u001b[37m\u001b[0m \u001b[1m0s\u001b[0m 32ms/step\n",
      " -- Segment\n",
      " -- Samples count\n",
      " -- Duration\n",
      " -- Voltage delta\n",
      " -- Start segment voltage\n",
      "\u001b[1m1/1\u001b[0m \u001b[32m━━━━━━━━━━━━━━━━━━━━\u001b[0m\u001b[37m\u001b[0m \u001b[1m0s\u001b[0m 33ms/step\n",
      " -- Segment\n",
      " -- Samples count\n",
      " -- Duration\n",
      " -- Voltage delta\n",
      " -- Start segment voltage\n",
      "\u001b[1m1/1\u001b[0m \u001b[32m━━━━━━━━━━━━━━━━━━━━\u001b[0m\u001b[37m\u001b[0m \u001b[1m0s\u001b[0m 33ms/step\n",
      " -- Segment\n",
      " -- Samples count\n",
      " -- Duration\n",
      " -- Voltage delta\n",
      " -- Start segment voltage\n",
      "\u001b[1m1/1\u001b[0m \u001b[32m━━━━━━━━━━━━━━━━━━━━\u001b[0m\u001b[37m\u001b[0m \u001b[1m0s\u001b[0m 49ms/step\n",
      " -- Segment\n",
      " -- Samples count\n",
      " -- Duration\n",
      " -- Voltage delta\n",
      " -- Start segment voltage\n",
      "\u001b[1m1/1\u001b[0m \u001b[32m━━━━━━━━━━━━━━━━━━━━\u001b[0m\u001b[37m\u001b[0m \u001b[1m0s\u001b[0m 59ms/step\n",
      " -- Segment\n",
      " -- Samples count\n",
      " -- Duration\n",
      " -- Voltage delta\n",
      " -- Start segment voltage\n",
      "\u001b[1m1/1\u001b[0m \u001b[32m━━━━━━━━━━━━━━━━━━━━\u001b[0m\u001b[37m\u001b[0m \u001b[1m0s\u001b[0m 53ms/step\n",
      " -- Segment\n",
      " -- Samples count\n",
      " -- Duration\n",
      " -- Voltage delta\n",
      " -- Start segment voltage\n",
      "\u001b[1m1/1\u001b[0m \u001b[32m━━━━━━━━━━━━━━━━━━━━\u001b[0m\u001b[37m\u001b[0m \u001b[1m0s\u001b[0m 55ms/step\n",
      " -- Segment\n",
      " -- Samples count\n",
      " -- Duration\n",
      " -- Voltage delta\n",
      " -- Start segment voltage\n",
      "\u001b[1m1/1\u001b[0m \u001b[32m━━━━━━━━━━━━━━━━━━━━\u001b[0m\u001b[37m\u001b[0m \u001b[1m0s\u001b[0m 36ms/step\n",
      " -- Segment\n",
      " -- Samples count\n",
      " -- Duration\n",
      " -- Voltage delta\n",
      " -- Start segment voltage\n",
      "\u001b[1m1/1\u001b[0m \u001b[32m━━━━━━━━━━━━━━━━━━━━\u001b[0m\u001b[37m\u001b[0m \u001b[1m0s\u001b[0m 38ms/step\n",
      " -- Segment\n",
      " -- Samples count\n",
      " -- Duration\n",
      " -- Voltage delta\n",
      " -- Start segment voltage\n",
      "\u001b[1m1/1\u001b[0m \u001b[32m━━━━━━━━━━━━━━━━━━━━\u001b[0m\u001b[37m\u001b[0m \u001b[1m0s\u001b[0m 44ms/step\n",
      " -- Segment\n",
      " -- Samples count\n",
      " -- Duration\n",
      " -- Voltage delta\n",
      " -- Start segment voltage\n",
      "\u001b[1m1/1\u001b[0m \u001b[32m━━━━━━━━━━━━━━━━━━━━\u001b[0m\u001b[37m\u001b[0m \u001b[1m0s\u001b[0m 41ms/step\n",
      " -- Segment\n",
      " -- Samples count\n",
      " -- Duration\n",
      " -- Voltage delta\n",
      " -- Start segment voltage\n",
      "\u001b[1m1/1\u001b[0m \u001b[32m━━━━━━━━━━━━━━━━━━━━\u001b[0m\u001b[37m\u001b[0m \u001b[1m0s\u001b[0m 46ms/step\n",
      " -- Segment\n",
      " -- Samples count\n",
      " -- Duration\n",
      " -- Voltage delta\n",
      " -- Start segment voltage\n",
      "\u001b[1m1/1\u001b[0m \u001b[32m━━━━━━━━━━━━━━━━━━━━\u001b[0m\u001b[37m\u001b[0m \u001b[1m0s\u001b[0m 51ms/step\n",
      " -- Segment\n",
      " -- Samples count\n",
      " -- Duration\n",
      " -- Voltage delta\n",
      " -- Start segment voltage\n",
      "\u001b[1m1/1\u001b[0m \u001b[32m━━━━━━━━━━━━━━━━━━━━\u001b[0m\u001b[37m\u001b[0m \u001b[1m0s\u001b[0m 35ms/step\n",
      " -- Segment\n",
      " -- Samples count\n",
      " -- Duration\n",
      " -- Voltage delta\n",
      " -- Start segment voltage\n",
      "\u001b[1m1/1\u001b[0m \u001b[32m━━━━━━━━━━━━━━━━━━━━\u001b[0m\u001b[37m\u001b[0m \u001b[1m0s\u001b[0m 41ms/step\n",
      " -- Segment\n",
      " -- Samples count\n",
      " -- Duration\n",
      " -- Voltage delta\n",
      " -- Start segment voltage\n",
      "\u001b[1m1/1\u001b[0m \u001b[32m━━━━━━━━━━━━━━━━━━━━\u001b[0m\u001b[37m\u001b[0m \u001b[1m0s\u001b[0m 33ms/step\n",
      " -- Segment\n",
      " -- Samples count\n",
      " -- Duration\n",
      " -- Voltage delta\n",
      " -- Start segment voltage\n",
      "\u001b[1m1/1\u001b[0m \u001b[32m━━━━━━━━━━━━━━━━━━━━\u001b[0m\u001b[37m\u001b[0m \u001b[1m0s\u001b[0m 43ms/step\n",
      " -- Segment\n",
      " -- Samples count\n",
      " -- Duration\n",
      " -- Voltage delta\n",
      " -- Start segment voltage\n",
      "\u001b[1m1/1\u001b[0m \u001b[32m━━━━━━━━━━━━━━━━━━━━\u001b[0m\u001b[37m\u001b[0m \u001b[1m0s\u001b[0m 29ms/step\n",
      " -- Segment\n",
      " -- Samples count\n",
      " -- Duration\n",
      " -- Voltage delta\n",
      " -- Start segment voltage\n",
      "\u001b[1m1/1\u001b[0m \u001b[32m━━━━━━━━━━━━━━━━━━━━\u001b[0m\u001b[37m\u001b[0m \u001b[1m0s\u001b[0m 65ms/step\n",
      " -- Segment\n",
      " -- Samples count\n",
      " -- Duration\n",
      " -- Voltage delta\n",
      " -- Start segment voltage\n",
      "\u001b[1m1/1\u001b[0m \u001b[32m━━━━━━━━━━━━━━━━━━━━\u001b[0m\u001b[37m\u001b[0m \u001b[1m0s\u001b[0m 40ms/step\n",
      " -- Segment\n",
      " -- Samples count\n",
      " -- Duration\n",
      " -- Voltage delta\n",
      " -- Start segment voltage\n",
      "\u001b[1m1/1\u001b[0m \u001b[32m━━━━━━━━━━━━━━━━━━━━\u001b[0m\u001b[37m\u001b[0m \u001b[1m0s\u001b[0m 34ms/step\n",
      " -- Segment\n",
      " -- Samples count\n",
      " -- Duration\n",
      " -- Voltage delta\n",
      " -- Start segment voltage\n",
      "\u001b[1m1/1\u001b[0m \u001b[32m━━━━━━━━━━━━━━━━━━━━\u001b[0m\u001b[37m\u001b[0m \u001b[1m0s\u001b[0m 29ms/step\n",
      " -- Segment\n",
      " -- Samples count\n",
      " -- Duration\n",
      " -- Voltage delta\n",
      " -- Start segment voltage\n",
      "\u001b[1m1/1\u001b[0m \u001b[32m━━━━━━━━━━━━━━━━━━━━\u001b[0m\u001b[37m\u001b[0m \u001b[1m0s\u001b[0m 44ms/step\n",
      " -- Segment\n",
      " -- Samples count\n",
      " -- Duration\n",
      " -- Voltage delta\n",
      " -- Start segment voltage\n",
      "\u001b[1m1/1\u001b[0m \u001b[32m━━━━━━━━━━━━━━━━━━━━\u001b[0m\u001b[37m\u001b[0m \u001b[1m0s\u001b[0m 25ms/step\n",
      " -- Segment\n",
      " -- Samples count\n",
      " -- Duration\n",
      " -- Voltage delta\n",
      " -- Start segment voltage\n",
      "\u001b[1m1/1\u001b[0m \u001b[32m━━━━━━━━━━━━━━━━━━━━\u001b[0m\u001b[37m\u001b[0m \u001b[1m0s\u001b[0m 31ms/step\n",
      " -- Segment\n",
      " -- Samples count\n",
      " -- Duration\n",
      " -- Voltage delta\n",
      " -- Start segment voltage\n",
      "\u001b[1m1/1\u001b[0m \u001b[32m━━━━━━━━━━━━━━━━━━━━\u001b[0m\u001b[37m\u001b[0m \u001b[1m0s\u001b[0m 32ms/step\n",
      " -- Segment\n",
      " -- Samples count\n",
      " -- Duration\n",
      " -- Voltage delta\n",
      " -- Start segment voltage\n",
      "\u001b[1m1/1\u001b[0m \u001b[32m━━━━━━━━━━━━━━━━━━━━\u001b[0m\u001b[37m\u001b[0m \u001b[1m0s\u001b[0m 22ms/step\n"
     ]
    }
   ],
   "source": [
    "# predict with the time-windows method\n",
    "df_knowns = y_test.loc[LEARN_COUNT:LEARN_COUNT+PREDICT_COUNT+INPUT_NEURONS_COUNT, STATIC_PARAMETERS];\n",
    "\n",
    "# df_knowns = y_test\n",
    "ptw = predict_time_window_with_knowns(y_train, model, predicted_parameters, df_knowns)\n"
   ]
  },
  {
   "cell_type": "markdown",
   "id": "10f6395a-500a-4590-95c9-9161c4cf2df2",
   "metadata": {},
   "source": [
    " - Forecast static ann-inputs via the Stationary process modeling method\n",
    "   ---------------------------------------------------------------------"
   ]
  },
  {
   "cell_type": "code",
   "execution_count": 27,
   "id": "118d66d6-ec2c-4e44-aed3-ac8273627b18",
   "metadata": {},
   "outputs": [],
   "source": [
    "route_in_sectors = df_raw.Segment[-PREDICT_COUNT:]\n",
    "\n",
    "df_segments_dictionary.index = df_segments_dictionary.Segment\n",
    "stationaty_means_forecasts = df_segments_dictionary.loc[route_in_sectors,STATIC_PARAMETERS]\n",
    "stationaty_means_forecasts.index = route_in_sectors.index\n",
    "\n",
    "stationaty_means_normalized, _ = re_normalize_data(stationaty_means_forecasts, min_max)\n",
    "# stationaty_means_normalized[[\"Voltage delta\", \"Duration\"]].plot()\n",
    "\n"
   ]
  },
  {
   "cell_type": "code",
   "execution_count": 28,
   "id": "3794ab0e-41df-422e-82e8-70d1445de208",
   "metadata": {},
   "outputs": [
    {
     "data": {
      "text/plain": [
       "38"
      ]
     },
     "execution_count": 28,
     "metadata": {},
     "output_type": "execute_result"
    }
   ],
   "source": [
    "voltage_0 = y_train.iloc[-1, :][ predicted_parameters].values[0]\n",
    "stationary_forecast = [voltage_0 := voltage_0 - x for x in stationaty_means_normalized[\"Voltage delta\"] ]\n",
    "len(stationary_forecast)"
   ]
  },
  {
   "cell_type": "markdown",
   "id": "acb37b9e-e778-4023-96ee-37769074c949",
   "metadata": {},
   "source": [
    "- Time-Window Forecast with the modeled static parameters as the stationary processes\n",
    "  -----------------------------------------------------------------------------------"
   ]
  },
  {
   "cell_type": "code",
   "execution_count": 29,
   "id": "5f0ae653-d282-4d50-b779-520a18c7bda6",
   "metadata": {},
   "outputs": [
    {
     "name": "stdout",
     "output_type": "stream",
     "text": [
      "(350, 5)\n",
      " -- Segment\n",
      " -- Samples count\n",
      " -- Duration\n",
      " -- Voltage delta\n",
      " -- Start segment voltage\n",
      "\u001b[1m1/1\u001b[0m \u001b[32m━━━━━━━━━━━━━━━━━━━━\u001b[0m\u001b[37m\u001b[0m \u001b[1m0s\u001b[0m 22ms/step\n",
      " -- Segment\n",
      " -- Samples count\n",
      " -- Duration\n",
      " -- Voltage delta\n",
      " -- Start segment voltage\n",
      "\u001b[1m1/1\u001b[0m \u001b[32m━━━━━━━━━━━━━━━━━━━━\u001b[0m\u001b[37m\u001b[0m \u001b[1m0s\u001b[0m 24ms/step\n",
      " -- Segment\n",
      " -- Samples count\n",
      " -- Duration\n",
      " -- Voltage delta\n",
      " -- Start segment voltage\n"
     ]
    },
    {
     "name": "stderr",
     "output_type": "stream",
     "text": [
      "/Users/ozabolotnyy/myProjects/OLENA/plPolitech/PyANN/Archive_2/UTILS/anns_utils_py.py:54: FutureWarning: The behavior of DataFrame concatenation with empty or all-NA entries is deprecated. In a future version, this will no longer exclude empty or all-NA columns when determining the result dtypes. To retain the old behavior, exclude the relevant entries before the concat operation.\n",
      "  df_predictions = pd.concat([df_predictions, df_predicted]);\n"
     ]
    },
    {
     "name": "stdout",
     "output_type": "stream",
     "text": [
      "\u001b[1m1/1\u001b[0m \u001b[32m━━━━━━━━━━━━━━━━━━━━\u001b[0m\u001b[37m\u001b[0m \u001b[1m0s\u001b[0m 25ms/step\n",
      " -- Segment\n",
      " -- Samples count\n",
      " -- Duration\n",
      " -- Voltage delta\n",
      " -- Start segment voltage\n",
      "\u001b[1m1/1\u001b[0m \u001b[32m━━━━━━━━━━━━━━━━━━━━\u001b[0m\u001b[37m\u001b[0m \u001b[1m0s\u001b[0m 23ms/step\n",
      " -- Segment\n",
      " -- Samples count\n",
      " -- Duration\n",
      " -- Voltage delta\n",
      " -- Start segment voltage\n",
      "\u001b[1m1/1\u001b[0m \u001b[32m━━━━━━━━━━━━━━━━━━━━\u001b[0m\u001b[37m\u001b[0m \u001b[1m0s\u001b[0m 25ms/step\n",
      " -- Segment\n",
      " -- Samples count\n",
      " -- Duration\n",
      " -- Voltage delta\n",
      " -- Start segment voltage\n",
      "\u001b[1m1/1\u001b[0m \u001b[32m━━━━━━━━━━━━━━━━━━━━\u001b[0m\u001b[37m\u001b[0m \u001b[1m0s\u001b[0m 29ms/step\n",
      " -- Segment\n",
      " -- Samples count\n",
      " -- Duration\n",
      " -- Voltage delta\n",
      " -- Start segment voltage\n",
      "\u001b[1m1/1\u001b[0m \u001b[32m━━━━━━━━━━━━━━━━━━━━\u001b[0m\u001b[37m\u001b[0m \u001b[1m0s\u001b[0m 29ms/step\n",
      " -- Segment\n",
      " -- Samples count\n",
      " -- Duration\n",
      " -- Voltage delta\n",
      " -- Start segment voltage\n",
      "\u001b[1m1/1\u001b[0m \u001b[32m━━━━━━━━━━━━━━━━━━━━\u001b[0m\u001b[37m\u001b[0m \u001b[1m0s\u001b[0m 32ms/step\n",
      " -- Segment\n",
      " -- Samples count\n",
      " -- Duration\n",
      " -- Voltage delta\n",
      " -- Start segment voltage\n",
      "\u001b[1m1/1\u001b[0m \u001b[32m━━━━━━━━━━━━━━━━━━━━\u001b[0m\u001b[37m\u001b[0m \u001b[1m0s\u001b[0m 34ms/step\n",
      " -- Segment\n",
      " -- Samples count\n",
      " -- Duration\n",
      " -- Voltage delta\n",
      " -- Start segment voltage\n",
      "\u001b[1m1/1\u001b[0m \u001b[32m━━━━━━━━━━━━━━━━━━━━\u001b[0m\u001b[37m\u001b[0m \u001b[1m0s\u001b[0m 23ms/step\n",
      " -- Segment\n",
      " -- Samples count\n",
      " -- Duration\n",
      " -- Voltage delta\n",
      " -- Start segment voltage\n",
      "\u001b[1m1/1\u001b[0m \u001b[32m━━━━━━━━━━━━━━━━━━━━\u001b[0m\u001b[37m\u001b[0m \u001b[1m0s\u001b[0m 33ms/step\n",
      " -- Segment\n",
      " -- Samples count\n",
      " -- Duration\n",
      " -- Voltage delta\n",
      " -- Start segment voltage\n",
      "\u001b[1m1/1\u001b[0m \u001b[32m━━━━━━━━━━━━━━━━━━━━\u001b[0m\u001b[37m\u001b[0m \u001b[1m0s\u001b[0m 26ms/step\n",
      " -- Segment\n",
      " -- Samples count\n",
      " -- Duration\n",
      " -- Voltage delta\n",
      " -- Start segment voltage\n",
      "\u001b[1m1/1\u001b[0m \u001b[32m━━━━━━━━━━━━━━━━━━━━\u001b[0m\u001b[37m\u001b[0m \u001b[1m0s\u001b[0m 23ms/step\n",
      " -- Segment\n",
      " -- Samples count\n",
      " -- Duration\n",
      " -- Voltage delta\n",
      " -- Start segment voltage\n",
      "\u001b[1m1/1\u001b[0m \u001b[32m━━━━━━━━━━━━━━━━━━━━\u001b[0m\u001b[37m\u001b[0m \u001b[1m0s\u001b[0m 22ms/step\n",
      " -- Segment\n",
      " -- Samples count\n",
      " -- Duration\n",
      " -- Voltage delta\n",
      " -- Start segment voltage\n",
      "\u001b[1m1/1\u001b[0m \u001b[32m━━━━━━━━━━━━━━━━━━━━\u001b[0m\u001b[37m\u001b[0m \u001b[1m0s\u001b[0m 23ms/step\n",
      " -- Segment\n",
      " -- Samples count\n",
      " -- Duration\n",
      " -- Voltage delta\n",
      " -- Start segment voltage\n",
      "\u001b[1m1/1\u001b[0m \u001b[32m━━━━━━━━━━━━━━━━━━━━\u001b[0m\u001b[37m\u001b[0m \u001b[1m0s\u001b[0m 33ms/step\n",
      " -- Segment\n",
      " -- Samples count\n",
      " -- Duration\n",
      " -- Voltage delta\n",
      " -- Start segment voltage\n",
      "\u001b[1m1/1\u001b[0m \u001b[32m━━━━━━━━━━━━━━━━━━━━\u001b[0m\u001b[37m\u001b[0m \u001b[1m0s\u001b[0m 22ms/step\n",
      " -- Segment\n",
      " -- Samples count\n",
      " -- Duration\n",
      " -- Voltage delta\n",
      " -- Start segment voltage\n",
      "\u001b[1m1/1\u001b[0m \u001b[32m━━━━━━━━━━━━━━━━━━━━\u001b[0m\u001b[37m\u001b[0m \u001b[1m0s\u001b[0m 22ms/step\n",
      " -- Segment\n",
      " -- Samples count\n",
      " -- Duration\n",
      " -- Voltage delta\n",
      " -- Start segment voltage\n",
      "\u001b[1m1/1\u001b[0m \u001b[32m━━━━━━━━━━━━━━━━━━━━\u001b[0m\u001b[37m\u001b[0m \u001b[1m0s\u001b[0m 23ms/step\n",
      " -- Segment\n",
      " -- Samples count\n",
      " -- Duration\n",
      " -- Voltage delta\n",
      " -- Start segment voltage\n",
      "\u001b[1m1/1\u001b[0m \u001b[32m━━━━━━━━━━━━━━━━━━━━\u001b[0m\u001b[37m\u001b[0m \u001b[1m0s\u001b[0m 36ms/step\n",
      " -- Segment\n",
      " -- Samples count\n",
      " -- Duration\n",
      " -- Voltage delta\n",
      " -- Start segment voltage\n",
      "\u001b[1m1/1\u001b[0m \u001b[32m━━━━━━━━━━━━━━━━━━━━\u001b[0m\u001b[37m\u001b[0m \u001b[1m0s\u001b[0m 28ms/step\n",
      " -- Segment\n",
      " -- Samples count\n",
      " -- Duration\n",
      " -- Voltage delta\n",
      " -- Start segment voltage\n",
      "\u001b[1m1/1\u001b[0m \u001b[32m━━━━━━━━━━━━━━━━━━━━\u001b[0m\u001b[37m\u001b[0m \u001b[1m0s\u001b[0m 26ms/step\n",
      " -- Segment\n",
      " -- Samples count\n",
      " -- Duration\n",
      " -- Voltage delta\n",
      " -- Start segment voltage\n",
      "\u001b[1m1/1\u001b[0m \u001b[32m━━━━━━━━━━━━━━━━━━━━\u001b[0m\u001b[37m\u001b[0m \u001b[1m0s\u001b[0m 21ms/step\n",
      " -- Segment\n",
      " -- Samples count\n",
      " -- Duration\n",
      " -- Voltage delta\n",
      " -- Start segment voltage\n",
      "\u001b[1m1/1\u001b[0m \u001b[32m━━━━━━━━━━━━━━━━━━━━\u001b[0m\u001b[37m\u001b[0m \u001b[1m0s\u001b[0m 24ms/step\n",
      " -- Segment\n",
      " -- Samples count\n",
      " -- Duration\n",
      " -- Voltage delta\n",
      " -- Start segment voltage\n",
      "\u001b[1m1/1\u001b[0m \u001b[32m━━━━━━━━━━━━━━━━━━━━\u001b[0m\u001b[37m\u001b[0m \u001b[1m0s\u001b[0m 30ms/step\n",
      " -- Segment\n",
      " -- Samples count\n",
      " -- Duration\n",
      " -- Voltage delta\n",
      " -- Start segment voltage\n",
      "\u001b[1m1/1\u001b[0m \u001b[32m━━━━━━━━━━━━━━━━━━━━\u001b[0m\u001b[37m\u001b[0m \u001b[1m0s\u001b[0m 27ms/step\n",
      " -- Segment\n",
      " -- Samples count\n",
      " -- Duration\n",
      " -- Voltage delta\n",
      " -- Start segment voltage\n",
      "\u001b[1m1/1\u001b[0m \u001b[32m━━━━━━━━━━━━━━━━━━━━\u001b[0m\u001b[37m\u001b[0m \u001b[1m0s\u001b[0m 23ms/step\n",
      " -- Segment\n",
      " -- Samples count\n",
      " -- Duration\n",
      " -- Voltage delta\n",
      " -- Start segment voltage\n",
      "\u001b[1m1/1\u001b[0m \u001b[32m━━━━━━━━━━━━━━━━━━━━\u001b[0m\u001b[37m\u001b[0m \u001b[1m0s\u001b[0m 20ms/step\n",
      " -- Segment\n",
      " -- Samples count\n",
      " -- Duration\n",
      " -- Voltage delta\n",
      " -- Start segment voltage\n",
      "\u001b[1m1/1\u001b[0m \u001b[32m━━━━━━━━━━━━━━━━━━━━\u001b[0m\u001b[37m\u001b[0m \u001b[1m0s\u001b[0m 21ms/step\n",
      " -- Segment\n",
      " -- Samples count\n",
      " -- Duration\n",
      " -- Voltage delta\n",
      " -- Start segment voltage\n",
      "\u001b[1m1/1\u001b[0m \u001b[32m━━━━━━━━━━━━━━━━━━━━\u001b[0m\u001b[37m\u001b[0m \u001b[1m0s\u001b[0m 33ms/step\n",
      " -- Segment\n",
      " -- Samples count\n",
      " -- Duration\n",
      " -- Voltage delta\n",
      " -- Start segment voltage\n",
      "\u001b[1m1/1\u001b[0m \u001b[32m━━━━━━━━━━━━━━━━━━━━\u001b[0m\u001b[37m\u001b[0m \u001b[1m0s\u001b[0m 26ms/step\n",
      " -- Segment\n",
      " -- Samples count\n",
      " -- Duration\n",
      " -- Voltage delta\n",
      " -- Start segment voltage\n",
      "\u001b[1m1/1\u001b[0m \u001b[32m━━━━━━━━━━━━━━━━━━━━\u001b[0m\u001b[37m\u001b[0m \u001b[1m0s\u001b[0m 23ms/step\n",
      " -- Segment\n",
      " -- Samples count\n",
      " -- Duration\n",
      " -- Voltage delta\n",
      " -- Start segment voltage\n",
      "\u001b[1m1/1\u001b[0m \u001b[32m━━━━━━━━━━━━━━━━━━━━\u001b[0m\u001b[37m\u001b[0m \u001b[1m0s\u001b[0m 27ms/step\n",
      " -- Segment\n",
      " -- Samples count\n",
      " -- Duration\n",
      " -- Voltage delta\n",
      " -- Start segment voltage\n",
      "\u001b[1m1/1\u001b[0m \u001b[32m━━━━━━━━━━━━━━━━━━━━\u001b[0m\u001b[37m\u001b[0m \u001b[1m0s\u001b[0m 29ms/step\n",
      " -- Segment\n",
      " -- Samples count\n",
      " -- Duration\n",
      " -- Voltage delta\n",
      " -- Start segment voltage\n",
      "\u001b[1m1/1\u001b[0m \u001b[32m━━━━━━━━━━━━━━━━━━━━\u001b[0m\u001b[37m\u001b[0m \u001b[1m0s\u001b[0m 31ms/step\n",
      " -- Segment\n",
      " -- Samples count\n",
      " -- Duration\n",
      " -- Voltage delta\n",
      " -- Start segment voltage\n",
      "\u001b[1m1/1\u001b[0m \u001b[32m━━━━━━━━━━━━━━━━━━━━\u001b[0m\u001b[37m\u001b[0m \u001b[1m0s\u001b[0m 26ms/step\n",
      " -- Segment\n",
      " -- Samples count\n",
      " -- Duration\n",
      " -- Voltage delta\n",
      " -- Start segment voltage\n",
      "\u001b[1m1/1\u001b[0m \u001b[32m━━━━━━━━━━━━━━━━━━━━\u001b[0m\u001b[37m\u001b[0m \u001b[1m0s\u001b[0m 28ms/step\n",
      " -- Segment\n",
      " -- Samples count\n",
      " -- Duration\n",
      " -- Voltage delta\n",
      " -- Start segment voltage\n",
      "\u001b[1m1/1\u001b[0m \u001b[32m━━━━━━━━━━━━━━━━━━━━\u001b[0m\u001b[37m\u001b[0m \u001b[1m0s\u001b[0m 32ms/step\n"
     ]
    }
   ],
   "source": [
    "ptw_real = predict_time_window_with_knowns(y_train, model, predicted_parameters, stationaty_means_normalized)\n"
   ]
  },
  {
   "cell_type": "code",
   "execution_count": 30,
   "id": "8487becb-d2f7-482b-accb-3177738c1356",
   "metadata": {},
   "outputs": [],
   "source": [
    "df_preds = y_test.loc[:, predicted_parameters]\n",
    "df_preds[\"model_test\"] = ann_test\n",
    "df_preds[\"pwd-predicted\"] = ptw\n",
    "df_preds[\"pwd-predicted-real\"] = ptw_real\n"
   ]
  },
  {
   "cell_type": "markdown",
   "id": "e83bd36d-1dde-4242-99ea-3a55942bb1e9",
   "metadata": {},
   "source": [
    "Forecasts results report\n",
    "========================"
   ]
  },
  {
   "cell_type": "code",
   "execution_count": 31,
   "id": "e62727f6-dcd4-46ff-94cc-b05cf21a9b79",
   "metadata": {},
   "outputs": [
    {
     "data": {
      "image/png": "[encoded data removed]",
      "text/plain": [
       "<Figure size 640x480 with 1 Axes>"
      ]
     },
     "metadata": {},
     "output_type": "display_data"
    }
   ],
   "source": [
    "x_ticks = list((f\"{t:3.0f}\" for t in route_in_sectors.values))\n",
    "\n",
    "plt = df_preds.plot();\n",
    "plt.set_xlabel(\"Route segments sequence\");\n",
    "plt.set_xticks(route_in_sectors.index, x_ticks, rotation='vertical');"
   ]
  },
  {
   "cell_type": "markdown",
   "id": "cec7a990-ead4-458f-8a83-a6c39d2ce676",
   "metadata": {},
   "source": [
    "Export results\n",
    "=============="
   ]
  },
  {
   "cell_type": "code",
   "execution_count": 33,
   "id": "a4034e98-9726-4c0b-b774-3a9d2690eaa6",
   "metadata": {},
   "outputs": [],
   "source": [
    "from opTools import data_saver as export;"
   ]
  },
  {
   "cell_type": "markdown",
   "id": "715e0ba4-980e-4c12-8371-eb1d4d10a30c",
   "metadata": {},
   "source": [
    "- Save data transformations\n",
    "  -------------------------"
   ]
  },
  {
   "cell_type": "code",
   "execution_count": 28,
   "id": "b17e2b2d-20c7-4bbd-9058-41e4fdd36667",
   "metadata": {},
   "outputs": [
    {
     "name": "stderr",
     "output_type": "stream",
     "text": [
      "INFO:opTools.opUtils.io_utils:Archive the '1_raw_data.csv, 2_preformatted_data.csv, 3_route_in_segments.csv' files data to the './DATA/input_data_processing.zip' ZIP archive.\n"
     ]
    }
   ],
   "source": [
    "export.execute([df, df_source, df_segments_route], [\"1_raw_data.csv\", \"2_preformatted_data.csv\", \"3_route_in_segments.csv\"],\n",
    "                archive_file_name=\"input_data_processing.zip\",  archive_path=[\".\", \"DATA\"]\n",
    "              );"
   ]
  },
  {
   "cell_type": "markdown",
   "id": "c9b6d2dd-e896-4c09-aa89-92f38d2ea419",
   "metadata": {},
   "source": [
    "- Save trained ANN parameters\n",
    "  ---------------------------"
   ]
  },
  {
   "cell_type": "code",
   "execution_count": 34,
   "id": "dd3f8cfa-b2de-460d-8377-4c93ec7302ad",
   "metadata": {},
   "outputs": [
    {
     "name": "stderr",
     "output_type": "stream",
     "text": [
      "INFO:opTools.opUtils.io_utils:Archive the 'segments_statistics.csv, min_max_scale.csv, ann_model.keras' files data to the './DATA/ann_train_results.zip' ZIP archive.\n",
      "INFO:opTools.opUtils.io_utils:Exporting the segments_statistics.csv\n",
      "INFO:opTools.opUtils.io_utils:Exporting the min_max_scale.csv\n",
      "INFO:opTools.opUtils.io_utils:Exporting the ann_model.keras\n"
     ]
    }
   ],
   "source": [
    "mm_df = pd.DataFrame().from_dict(min_max);\n",
    "mm_df.index = [\"Min\", \"Max\"];\n",
    "\n",
    "export.execute([df_segments_dictionary, mm_df, model], \n",
    "               [\"segments_statistics.csv\", \"min_max_scale.csv\", \"ann_model.keras\"],\n",
    "                archive_file_name=\"ann_train_results.zip\",  archive_path=[\".\", \"DATA\"]\n",
    "              );"
   ]
  },
  {
   "cell_type": "markdown",
   "id": "f35b4313-b0ed-42a7-9788-3e1902fbef69",
   "metadata": {},
   "source": [
    "- Save result of forecasts on testing data set\n",
    "  --------------------------------------------"
   ]
  },
  {
   "cell_type": "code",
   "execution_count": 35,
   "id": "40d014cc-9250-46bd-bdd7-cf657f855d93",
   "metadata": {},
   "outputs": [
    {
     "name": "stderr",
     "output_type": "stream",
     "text": [
      "INFO:opTools.opUtils.io_utils:Archive the 'desired_route_segments.csv' files data to the './DATA/ann_forecast_inputs.zip' ZIP archive.\n",
      "INFO:opTools.opUtils.io_utils:Exporting the desired_route_segments.csv\n"
     ]
    }
   ],
   "source": [
    "export.execute([pd.DataFrame().from_dict({\"Segments\":x_ticks}),], \n",
    "                [\"desired_route_segments.csv\", ],\n",
    "                archive_file_name=\"ann_forecast_inputs.zip\",\n",
    "                archive_path=[\".\", \"DATA\"]);"
   ]
  },
  {
   "cell_type": "code",
   "execution_count": 26,
   "id": "9e23b685-75d1-4542-9c72-cfa1ff8548b6",
   "metadata": {},
   "outputs": [
    {
     "data": {
      "text/plain": [
       "(704, 8)"
      ]
     },
     "execution_count": 26,
     "metadata": {},
     "output_type": "execute_result"
    }
   ],
   "source": [
    "df.shape"
   ]
  },
  {
   "cell_type": "code",
   "execution_count": 36,
   "id": "0c45ff56-620b-4de3-9192-c8a622e80646",
   "metadata": {},
   "outputs": [
    {
     "name": "stderr",
     "output_type": "stream",
     "text": [
      "INFO:opTools.opUtils.io_utils:Extract the 'segments_statistics.csv, min_max_scale.csv, ann_model.keras' files data from the './ann_train_results.zip' ZIP archive.\n"
     ]
    },
    {
     "ename": "FileNotFoundError",
     "evalue": "[Errno 2] No such file or directory: './ann_train_results.zip'",
     "output_type": "error",
     "traceback": [
      "\u001b[0;31m---------------------------------------------------------------------------\u001b[0m",
      "\u001b[0;31mFileNotFoundError\u001b[0m                         Traceback (most recent call last)",
      "Cell \u001b[0;32mIn[36], line 1\u001b[0m\n\u001b[0;32m----> 1\u001b[0m \u001b[43mdata_loader\u001b[49m\u001b[38;5;241;43m.\u001b[39;49m\u001b[43mexecute\u001b[49m\u001b[43m(\u001b[49m\u001b[38;5;28;43;01mNone\u001b[39;49;00m\u001b[43m,\u001b[49m\u001b[43m \u001b[49m\n\u001b[1;32m      2\u001b[0m \u001b[43m                    \u001b[49m\u001b[43m[\u001b[49m\u001b[38;5;124;43m\"\u001b[39;49m\u001b[38;5;124;43msegments_statistics.csv\u001b[39;49m\u001b[38;5;124;43m\"\u001b[39;49m\u001b[43m,\u001b[49m\u001b[43m \u001b[49m\u001b[38;5;124;43m\"\u001b[39;49m\u001b[38;5;124;43mmin_max_scale.csv\u001b[39;49m\u001b[38;5;124;43m\"\u001b[39;49m\u001b[43m,\u001b[49m\u001b[43m \u001b[49m\u001b[38;5;124;43m\"\u001b[39;49m\u001b[38;5;124;43mann_model.keras\u001b[39;49m\u001b[38;5;124;43m\"\u001b[39;49m\u001b[43m]\u001b[49m\u001b[43m,\u001b[49m\n\u001b[1;32m      3\u001b[0m \u001b[43m                    \u001b[49m\u001b[43marchive_file_name\u001b[49m\u001b[38;5;241;43m=\u001b[39;49m\u001b[38;5;124;43m\"\u001b[39;49m\u001b[38;5;124;43mann_train_results.zip\u001b[39;49m\u001b[38;5;124;43m\"\u001b[39;49m\u001b[43m,\u001b[49m\u001b[43m  \u001b[49m\u001b[43marchive_path\u001b[49m\u001b[38;5;241;43m=\u001b[39;49m\u001b[43m[\u001b[49m\u001b[38;5;124;43m\"\u001b[39;49m\u001b[38;5;124;43m.\u001b[39;49m\u001b[38;5;124;43m\"\u001b[39;49m\u001b[43m,\u001b[49m\u001b[43m \u001b[49m\u001b[38;5;124;43m\"\u001b[39;49m\u001b[38;5;124;43mDATA\u001b[39;49m\u001b[38;5;124;43m\"\u001b[39;49m\u001b[43m]\u001b[49m\u001b[43m,\u001b[49m\n\u001b[1;32m      4\u001b[0m \u001b[43m                                \u001b[49m\u001b[43mlow_memory\u001b[49m\u001b[38;5;241;43m=\u001b[39;49m\u001b[38;5;28;43;01mFalse\u001b[39;49;00m\u001b[43m)\u001b[49m\n",
      "File \u001b[0;32m~/myProjects/OLENA/plPolitech/PyANN/Archive_2/opTools/data_loader.py:8\u001b[0m, in \u001b[0;36mexecute\u001b[0;34m(df, files_names, data_path, archive_file_name, **kwargs)\u001b[0m\n\u001b[1;32m      6\u001b[0m \u001b[38;5;28;01mif\u001b[39;00m(\u001b[38;5;28mlen\u001b[39m(files_names) \u001b[38;5;241m==\u001b[39m \u001b[38;5;241m0\u001b[39m):\n\u001b[1;32m      7\u001b[0m     \u001b[38;5;28;01mreturn\u001b[39;00m [opio\u001b[38;5;241m.\u001b[39mdf_from_csv(files_names[\u001b[38;5;241m0\u001b[39m], data_path, archive_file_name, \u001b[38;5;241m*\u001b[39m\u001b[38;5;241m*\u001b[39mkwargs)];\n\u001b[0;32m----> 8\u001b[0m \u001b[38;5;28;01mreturn\u001b[39;00m \u001b[43mopio\u001b[49m\u001b[38;5;241;43m.\u001b[39;49m\u001b[43mdfs_from_zip\u001b[49m\u001b[43m(\u001b[49m\u001b[43mfiles_names\u001b[49m\u001b[43m,\u001b[49m\u001b[43m \u001b[49m\u001b[43marchive_file_name\u001b[49m\u001b[43m,\u001b[49m\u001b[43m \u001b[49m\u001b[43mdata_path\u001b[49m\u001b[43m,\u001b[49m\u001b[43m \u001b[49m\u001b[38;5;241;43m*\u001b[39;49m\u001b[38;5;241;43m*\u001b[39;49m\u001b[43mkwargs\u001b[49m\u001b[43m)\u001b[49m\n",
      "File \u001b[0;32m~/myProjects/OLENA/plPolitech/PyANN/Archive_2/opTools/opUtils/io_utils.py:58\u001b[0m, in \u001b[0;36mdfs_from_zip\u001b[0;34m(files_names, archive_file_name, data_path, **read_csv_options)\u001b[0m\n\u001b[1;32m     56\u001b[0m log\u001b[38;5;241m.\u001b[39minfo(\u001b[38;5;124mf\u001b[39m\u001b[38;5;124m\"\u001b[39m\u001b[38;5;124mExtract the \u001b[39m\u001b[38;5;124m'\u001b[39m\u001b[38;5;132;01m{\u001b[39;00m\u001b[38;5;124m\"\u001b[39m\u001b[38;5;124m, \u001b[39m\u001b[38;5;124m\"\u001b[39m\u001b[38;5;241m.\u001b[39mjoin(files_names)\u001b[38;5;132;01m}\u001b[39;00m\u001b[38;5;124m'\u001b[39m\u001b[38;5;124m files data from the \u001b[39m\u001b[38;5;124m'\u001b[39m\u001b[38;5;132;01m{\u001b[39;00mfile\u001b[38;5;132;01m}\u001b[39;00m\u001b[38;5;124m'\u001b[39m\u001b[38;5;124m ZIP archive.\u001b[39m\u001b[38;5;124m\"\u001b[39m);\n\u001b[1;32m     57\u001b[0m dfs \u001b[38;5;241m=\u001b[39m [];\n\u001b[0;32m---> 58\u001b[0m \u001b[38;5;28;01mwith\u001b[39;00m \u001b[43mZipFile\u001b[49m\u001b[43m(\u001b[49m\u001b[43mfile\u001b[49m\u001b[43m)\u001b[49m \u001b[38;5;28;01mas\u001b[39;00m \u001b[38;5;28mzip\u001b[39m:\n\u001b[1;32m     59\u001b[0m     log\u001b[38;5;241m.\u001b[39mdebug(\u001b[38;5;124mf\u001b[39m\u001b[38;5;124m\"\u001b[39m\u001b[38;5;124mThe archive consists of: \u001b[39m\u001b[38;5;132;01m{\u001b[39;00m[z\u001b[38;5;241m.\u001b[39mfilename\u001b[38;5;250m \u001b[39m\u001b[38;5;28;01mfor\u001b[39;00m\u001b[38;5;250m \u001b[39mz\u001b[38;5;250m \u001b[39m\u001b[38;5;129;01min\u001b[39;00m\u001b[38;5;250m \u001b[39m\u001b[38;5;28mzip\u001b[39m\u001b[38;5;241m.\u001b[39minfolist()]\u001b[38;5;132;01m}\u001b[39;00m\u001b[38;5;124m\"\u001b[39m);\n\u001b[1;32m     60\u001b[0m     \u001b[38;5;28;01mfor\u001b[39;00m file_name \u001b[38;5;129;01min\u001b[39;00m files_names:\n",
      "File \u001b[0;32m/usr/local/Caskroom/miniconda/base/envs/tf-p12.2/lib/python3.12/zipfile/__init__.py:1323\u001b[0m, in \u001b[0;36mZipFile.__init__\u001b[0;34m(self, file, mode, compression, allowZip64, compresslevel, strict_timestamps, metadata_encoding)\u001b[0m\n\u001b[1;32m   1321\u001b[0m \u001b[38;5;28;01mwhile\u001b[39;00m \u001b[38;5;28;01mTrue\u001b[39;00m:\n\u001b[1;32m   1322\u001b[0m     \u001b[38;5;28;01mtry\u001b[39;00m:\n\u001b[0;32m-> 1323\u001b[0m         \u001b[38;5;28mself\u001b[39m\u001b[38;5;241m.\u001b[39mfp \u001b[38;5;241m=\u001b[39m \u001b[43mio\u001b[49m\u001b[38;5;241;43m.\u001b[39;49m\u001b[43mopen\u001b[49m\u001b[43m(\u001b[49m\u001b[43mfile\u001b[49m\u001b[43m,\u001b[49m\u001b[43m \u001b[49m\u001b[43mfilemode\u001b[49m\u001b[43m)\u001b[49m\n\u001b[1;32m   1324\u001b[0m     \u001b[38;5;28;01mexcept\u001b[39;00m \u001b[38;5;167;01mOSError\u001b[39;00m:\n\u001b[1;32m   1325\u001b[0m         \u001b[38;5;28;01mif\u001b[39;00m filemode \u001b[38;5;129;01min\u001b[39;00m modeDict:\n",
      "\u001b[0;31mFileNotFoundError\u001b[0m: [Errno 2] No such file or directory: './ann_train_results.zip'"
     ]
    }
   ],
   "source": [
    "data_loader.execute(None, \n",
    "                    [\"segments_statistics.csv\", \"min_max_scale.csv\", \"ann_model.keras\"],\n",
    "                    archive_file_name=\"ann_train_results.zip\",  archive_path=[\".\", \"DATA\"],\n",
    "                                low_memory=False)\n",
    "\n",
    "\n"
   ]
  },
  {
   "cell_type": "code",
   "execution_count": null,
   "id": "53ceb65d-a178-43a6-858f-4b8eb2df5519",
   "metadata": {},
   "outputs": [],
   "source": []
  }
 ],
 "metadata": {
  "kernelspec": {
   "display_name": "Python 3 (ipykernel)",
   "language": "python",
   "name": "python3"
  },
  "language_info": {
   "codemirror_mode": {
    "name": "ipython",
    "version": 3
   },
   "file_extension": ".py",
   "mimetype": "text/x-python",
   "name": "python",
   "nbconvert_exporter": "python",
   "pygments_lexer": "ipython3",
   "version": "3.12.2"
  }
 },
 "nbformat": 4,
 "nbformat_minor": 5
}
