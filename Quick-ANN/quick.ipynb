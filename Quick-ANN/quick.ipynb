{
 "cells": [
  {
   "cell_type": "markdown",
   "id": "dceb67b9-d5b9-4322-9c2e-1658cb909515",
   "metadata": {
    "jp-MarkdownHeadingCollapsed": true
   },
   "source": [
    "Imports and declarations\n",
    "========================"
   ]
  },
  {
   "cell_type": "code",
   "execution_count": 1,
   "id": "348ddc91-e4ce-41e4-9019-a81c5ed81f57",
   "metadata": {},
   "outputs": [],
   "source": [
    "import pandas as pd;\n",
    "import opTools.opUtils.io_utils as opio;\n",
    "\n",
    "import opTools.data_re_format as data_reformation\n",
    "\n",
    "def log_df(df, title):\n",
    "    s = f\"*  {title}\\n   {len(title) * \"=\"}\"\n",
    "    print(f\"\\n{s}:\\n   columns:{df.shape[1]} x rows:{df.shape[0]}\");\n",
    "    "
   ]
  },
  {
   "cell_type": "code",
   "execution_count": 2,
   "id": "f3014dde-2d6f-4d4a-9aa1-cbc182659574",
   "metadata": {},
   "outputs": [
    {
     "name": "stdout",
     "output_type": "stream",
     "text": [
      "Configuration: v0.1\n",
      "\n",
      "The multiparameter, per-segment \n",
      "power consumption forecast\n",
      "algorithm\n",
      "\n"
     ]
    }
   ],
   "source": [
    "CONFIG = opio.load_configuration(\"quick.conf.yml\");\n",
    "print(f\"Configuration: v{CONFIG[\"version\"]}\\n\\n{CONFIG[\"info\"]}\");"
   ]
  },
  {
   "cell_type": "markdown",
   "id": "108ef427-cbbe-45ff-8a89-6a4093f9395a",
   "metadata": {
    "jp-MarkdownHeadingCollapsed": true
   },
   "source": [
    "Split data by segment change\n",
    "============================"
   ]
  },
  {
   "cell_type": "code",
   "execution_count": 3,
   "id": "f938315e-bf11-4244-bc08-1d9dba1244ad",
   "metadata": {},
   "outputs": [
    {
     "name": "stdout",
     "output_type": "stream",
     "text": [
      "\n",
      "*  Load raw data from file\n",
      "   =======================:\n",
      "   columns:50 x rows:67223\n",
      "\n",
      "*  reformat to data source\n",
      "   =======================:\n",
      "   columns:11 x rows:27000\n"
     ]
    }
   ],
   "source": [
    "df = opio.df_from_csv(**CONFIG[\"data_source\"]);\n",
    "log_df(df, \"Load raw data from file\");\n",
    "\n",
    "df_source = data_reformation.execute(df, **CONFIG[\"data_re_format\"])\n",
    "log_df(df_source, \"reformat to data source\")\n"
   ]
  },
  {
   "cell_type": "code",
   "execution_count": 4,
   "id": "c5be1c6f-e057-466c-8cd3-79bfd72d935f",
   "metadata": {},
   "outputs": [],
   "source": [
    "import opTools.data_segmentation as seg\n",
    "dfs_list, dfs_grouped = seg.execute(df_source, **CONFIG[\"data_preprocessing\"]);"
   ]
  },
  {
   "cell_type": "code",
   "execution_count": 5,
   "id": "bc7729a5-270d-41af-9e82-23891779c3fb",
   "metadata": {},
   "outputs": [],
   "source": [
    "import opTools.build_per_segment_statistics as proc\n",
    "df_segments_route, df_segments_dictionary = proc.execute((dfs_list, dfs_grouped), **CONFIG[\"build_per_segment_statistics\"]) "
   ]
  },
  {
   "cell_type": "code",
   "execution_count": 6,
   "id": "0fcb4a14-7725-4563-a76a-14e6ba0ae825",
   "metadata": {},
   "outputs": [
    {
     "name": "stdout",
     "output_type": "stream",
     "text": [
      "\n",
      "*  train route in segments\n",
      "   =======================:\n",
      "   columns:8 x rows:704\n",
      "\n",
      "*  averaged segments statistics dictonary\n",
      "   ======================================:\n",
      "   columns:7 x rows:26\n"
     ]
    }
   ],
   "source": [
    "log_df(df_segments_route, \"train route in segments\");\n",
    "log_df(df_segments_dictionary, \"averaged segments statistics dictonary\");"
   ]
  },
  {
   "cell_type": "markdown",
   "id": "3340444c-3e8d-4b75-bd2d-585797462be4",
   "metadata": {
    "jp-MarkdownHeadingCollapsed": true
   },
   "source": [
    "Neural Network Building\n",
    "======================="
   ]
  },
  {
   "cell_type": "code",
   "execution_count": 7,
   "id": "200043ed-9abd-4286-acf9-f8f76da84b44",
   "metadata": {},
   "outputs": [],
   "source": [
    "import numpy as np;\n",
    "df = df_segments_route;\n",
    "\n",
    "df_raw = data_reformation.execute(df, **CONFIG[\"segments_route_re_format\"])\n",
    "df_raw.index = np.arange(df_raw.shape[0]);\n",
    "df_raw.dropna(axis=0);"
   ]
  },
  {
   "cell_type": "code",
   "execution_count": 8,
   "id": "8a649e93-b9f4-4639-9bb6-b2490dea0e56",
   "metadata": {},
   "outputs": [],
   "source": [
    "LEARN_COUNT = 300;\n",
    "PREDICT_COUNT = 38;\n",
    "INPUT_NEURONS_COUNT = 12;\n",
    "HIDDEN_NEURONS_COUNT = 13;\n",
    "\n",
    "EPOCHS_COUNT = 50\n",
    "COUNT_BATCH_SIZE = 15;\n",
    "\n",
    "all_columns = CONFIG[\"segments_route_re_format\"]['processing_columns'];\n",
    "STATIC_PARAMETERS = ['Segment','Samples count','Duration','Voltage delta']\n",
    "predicted_parameters = ['Start segment voltage'];\n"
   ]
  },
  {
   "cell_type": "code",
   "execution_count": 9,
   "id": "2fd060e1-71b8-4c35-9766-d25c3e7c6bd0",
   "metadata": {},
   "outputs": [
    {
     "data": {
      "text/plain": [
       "(350, 5)"
      ]
     },
     "execution_count": 9,
     "metadata": {},
     "output_type": "execute_result"
    }
   ],
   "source": [
    "from opTools.opUtils.data_preprocessing import normalize_data, re_normalize_data;\n",
    "df_raw = df_raw.loc[0:LEARN_COUNT + PREDICT_COUNT + INPUT_NEURONS_COUNT - 1 ,:]\n",
    "\n",
    "df1, min_max = normalize_data(df_raw);\n",
    "df1.shape"
   ]
  },
  {
   "cell_type": "code",
   "execution_count": 10,
   "id": "f8d6dcb9-7891-4dcc-b324-d3c66b9d2e50",
   "metadata": {},
   "outputs": [
    {
     "name": "stderr",
     "output_type": "stream",
     "text": [
      "2024-03-31 17:57:04.619439: I tensorflow/core/platform/cpu_feature_guard.cc:210] This TensorFlow binary is optimized to use available CPU instructions in performance-critical operations.\n",
      "To enable the following instructions: AVX2 FMA, in other operations, rebuild TensorFlow with the appropriate compiler flags.\n"
     ]
    },
    {
     "name": "stdout",
     "output_type": "stream",
     "text": [
      " -- Segment\n",
      " -- Samples count\n",
      " -- Duration\n",
      " -- Voltage delta\n",
      " -- Start segment voltage\n"
     ]
    }
   ],
   "source": [
    "from UTILS.anns_utils_py import df_to_shifted_tables, build_multiparamiters_model,predict_time_window_with_knowns;\n",
    "x_train, y_train, x_test, y_test = df_to_shifted_tables(df1, INPUT_NEURONS_COUNT, LEARN_COUNT)"
   ]
  },
  {
   "cell_type": "code",
   "execution_count": 11,
   "id": "341960b9-330e-428b-82c9-d3f7929ae8d2",
   "metadata": {},
   "outputs": [
    {
     "data": {
      "text/plain": [
       "((300, 5),\n",
       " (38, 5),\n",
       " Index(['Segment', 'Samples count', 'Duration', 'Voltage delta',\n",
       "        'Start segment voltage'],\n",
       "       dtype='object'))"
      ]
     },
     "execution_count": 11,
     "metadata": {},
     "output_type": "execute_result"
    }
   ],
   "source": [
    "(y_train.shape, y_test.shape, y_test.columns)"
   ]
  },
  {
   "cell_type": "code",
   "execution_count": 12,
   "id": "639f8760-4b94-4dda-b6bc-3f83d3ce56e4",
   "metadata": {},
   "outputs": [],
   "source": [
    "model = build_multiparamiters_model(all_columns, predicted_parameters, INPUT_NEURONS_COUNT, hiden_layer_neurons = HIDDEN_NEURONS_COUNT)"
   ]
  },
  {
   "cell_type": "markdown",
   "id": "73f09021-b398-4403-9a42-bf6aa3924bf8",
   "metadata": {
    "jp-MarkdownHeadingCollapsed": true
   },
   "source": [
    "Neural Network Training\n",
    "======================="
   ]
  },
  {
   "cell_type": "code",
   "execution_count": 13,
   "id": "8aa4f065-256f-4486-9639-4896b866a1c1",
   "metadata": {},
   "outputs": [
    {
     "name": "stdout",
     "output_type": "stream",
     "text": [
      "Epoch 1/50\n",
      "\u001b[1m20/20\u001b[0m \u001b[32m━━━━━━━━━━━━━━━━━━━━\u001b[0m\u001b[37m\u001b[0m \u001b[1m1s\u001b[0m 21ms/step - loss: 1.4916 - mean_absolute_error: 1.1491\n",
      "Epoch 2/50\n",
      "\u001b[1m20/20\u001b[0m \u001b[32m━━━━━━━━━━━━━━━━━━━━\u001b[0m\u001b[37m\u001b[0m \u001b[1m0s\u001b[0m 20ms/step - loss: 0.1531 - mean_absolute_error: 0.3097\n",
      "Epoch 3/50\n",
      "\u001b[1m20/20\u001b[0m \u001b[32m━━━━━━━━━━━━━━━━━━━━\u001b[0m\u001b[37m\u001b[0m \u001b[1m0s\u001b[0m 21ms/step - loss: 0.0914 - mean_absolute_error: 0.2481\n",
      "Epoch 4/50\n",
      "\u001b[1m20/20\u001b[0m \u001b[32m━━━━━━━━━━━━━━━━━━━━\u001b[0m\u001b[37m\u001b[0m \u001b[1m0s\u001b[0m 21ms/step - loss: 0.0623 - mean_absolute_error: 0.2036\n",
      "Epoch 5/50\n",
      "\u001b[1m20/20\u001b[0m \u001b[32m━━━━━━━━━━━━━━━━━━━━\u001b[0m\u001b[37m\u001b[0m \u001b[1m0s\u001b[0m 21ms/step - loss: 0.0457 - mean_absolute_error: 0.1742\n",
      "Epoch 6/50\n",
      "\u001b[1m20/20\u001b[0m \u001b[32m━━━━━━━━━━━━━━━━━━━━\u001b[0m\u001b[37m\u001b[0m \u001b[1m0s\u001b[0m 21ms/step - loss: 0.0361 - mean_absolute_error: 0.1516\n",
      "Epoch 7/50\n",
      "\u001b[1m20/20\u001b[0m \u001b[32m━━━━━━━━━━━━━━━━━━━━\u001b[0m\u001b[37m\u001b[0m \u001b[1m0s\u001b[0m 21ms/step - loss: 0.0307 - mean_absolute_error: 0.1375\n",
      "Epoch 8/50\n",
      "\u001b[1m20/20\u001b[0m \u001b[32m━━━━━━━━━━━━━━━━━━━━\u001b[0m\u001b[37m\u001b[0m \u001b[1m1s\u001b[0m 28ms/step - loss: 0.0265 - mean_absolute_error: 0.1312\n",
      "Epoch 9/50\n",
      "\u001b[1m20/20\u001b[0m \u001b[32m━━━━━━━━━━━━━━━━━━━━\u001b[0m\u001b[37m\u001b[0m \u001b[1m0s\u001b[0m 21ms/step - loss: 0.0199 - mean_absolute_error: 0.1126\n",
      "Epoch 10/50\n",
      "\u001b[1m20/20\u001b[0m \u001b[32m━━━━━━━━━━━━━━━━━━━━\u001b[0m\u001b[37m\u001b[0m \u001b[1m0s\u001b[0m 21ms/step - loss: 0.0202 - mean_absolute_error: 0.1097\n",
      "Epoch 11/50\n",
      "\u001b[1m20/20\u001b[0m \u001b[32m━━━━━━━━━━━━━━━━━━━━\u001b[0m\u001b[37m\u001b[0m \u001b[1m0s\u001b[0m 21ms/step - loss: 0.0125 - mean_absolute_error: 0.0842\n",
      "Epoch 12/50\n",
      "\u001b[1m20/20\u001b[0m \u001b[32m━━━━━━━━━━━━━━━━━━━━\u001b[0m\u001b[37m\u001b[0m \u001b[1m0s\u001b[0m 20ms/step - loss: 0.0127 - mean_absolute_error: 0.0866\n",
      "Epoch 13/50\n",
      "\u001b[1m20/20\u001b[0m \u001b[32m━━━━━━━━━━━━━━━━━━━━\u001b[0m\u001b[37m\u001b[0m \u001b[1m0s\u001b[0m 20ms/step - loss: 0.0107 - mean_absolute_error: 0.0821\n",
      "Epoch 14/50\n",
      "\u001b[1m20/20\u001b[0m \u001b[32m━━━━━━━━━━━━━━━━━━━━\u001b[0m\u001b[37m\u001b[0m \u001b[1m0s\u001b[0m 21ms/step - loss: 0.0084 - mean_absolute_error: 0.0728\n",
      "Epoch 15/50\n",
      "\u001b[1m20/20\u001b[0m \u001b[32m━━━━━━━━━━━━━━━━━━━━\u001b[0m\u001b[37m\u001b[0m \u001b[1m0s\u001b[0m 21ms/step - loss: 0.0086 - mean_absolute_error: 0.0742\n",
      "Epoch 16/50\n",
      "\u001b[1m20/20\u001b[0m \u001b[32m━━━━━━━━━━━━━━━━━━━━\u001b[0m\u001b[37m\u001b[0m \u001b[1m0s\u001b[0m 21ms/step - loss: 0.0069 - mean_absolute_error: 0.0654\n",
      "Epoch 17/50\n",
      "\u001b[1m20/20\u001b[0m \u001b[32m━━━━━━━━━━━━━━━━━━━━\u001b[0m\u001b[37m\u001b[0m \u001b[1m0s\u001b[0m 24ms/step - loss: 0.0071 - mean_absolute_error: 0.0659\n",
      "Epoch 18/50\n",
      "\u001b[1m20/20\u001b[0m \u001b[32m━━━━━━━━━━━━━━━━━━━━\u001b[0m\u001b[37m\u001b[0m \u001b[1m0s\u001b[0m 24ms/step - loss: 0.0053 - mean_absolute_error: 0.0565\n",
      "Epoch 19/50\n",
      "\u001b[1m20/20\u001b[0m \u001b[32m━━━━━━━━━━━━━━━━━━━━\u001b[0m\u001b[37m\u001b[0m \u001b[1m1s\u001b[0m 32ms/step - loss: 0.0065 - mean_absolute_error: 0.0624\n",
      "Epoch 20/50\n",
      "\u001b[1m20/20\u001b[0m \u001b[32m━━━━━━━━━━━━━━━━━━━━\u001b[0m\u001b[37m\u001b[0m \u001b[1m0s\u001b[0m 21ms/step - loss: 0.0043 - mean_absolute_error: 0.0522\n",
      "Epoch 21/50\n",
      "\u001b[1m20/20\u001b[0m \u001b[32m━━━━━━━━━━━━━━━━━━━━\u001b[0m\u001b[37m\u001b[0m \u001b[1m0s\u001b[0m 21ms/step - loss: 0.0045 - mean_absolute_error: 0.0524\n",
      "Epoch 22/50\n",
      "\u001b[1m20/20\u001b[0m \u001b[32m━━━━━━━━━━━━━━━━━━━━\u001b[0m\u001b[37m\u001b[0m \u001b[1m0s\u001b[0m 21ms/step - loss: 0.0039 - mean_absolute_error: 0.0487\n",
      "Epoch 23/50\n",
      "\u001b[1m20/20\u001b[0m \u001b[32m━━━━━━━━━━━━━━━━━━━━\u001b[0m\u001b[37m\u001b[0m \u001b[1m0s\u001b[0m 22ms/step - loss: 0.0040 - mean_absolute_error: 0.0502\n",
      "Epoch 24/50\n",
      "\u001b[1m20/20\u001b[0m \u001b[32m━━━━━━━━━━━━━━━━━━━━\u001b[0m\u001b[37m\u001b[0m \u001b[1m0s\u001b[0m 22ms/step - loss: 0.0031 - mean_absolute_error: 0.0443\n",
      "Epoch 25/50\n",
      "\u001b[1m20/20\u001b[0m \u001b[32m━━━━━━━━━━━━━━━━━━━━\u001b[0m\u001b[37m\u001b[0m \u001b[1m0s\u001b[0m 21ms/step - loss: 0.0025 - mean_absolute_error: 0.0395\n",
      "Epoch 26/50\n",
      "\u001b[1m20/20\u001b[0m \u001b[32m━━━━━━━━━━━━━━━━━━━━\u001b[0m\u001b[37m\u001b[0m \u001b[1m0s\u001b[0m 20ms/step - loss: 0.0023 - mean_absolute_error: 0.0385\n",
      "Epoch 27/50\n",
      "\u001b[1m20/20\u001b[0m \u001b[32m━━━━━━━━━━━━━━━━━━━━\u001b[0m\u001b[37m\u001b[0m \u001b[1m0s\u001b[0m 22ms/step - loss: 0.0024 - mean_absolute_error: 0.0380\n",
      "Epoch 28/50\n",
      "\u001b[1m20/20\u001b[0m \u001b[32m━━━━━━━━━━━━━━━━━━━━\u001b[0m\u001b[37m\u001b[0m \u001b[1m0s\u001b[0m 24ms/step - loss: 0.0020 - mean_absolute_error: 0.0359\n",
      "Epoch 29/50\n",
      "\u001b[1m20/20\u001b[0m \u001b[32m━━━━━━━━━━━━━━━━━━━━\u001b[0m\u001b[37m\u001b[0m \u001b[1m1s\u001b[0m 24ms/step - loss: 0.0021 - mean_absolute_error: 0.0370\n",
      "Epoch 30/50\n",
      "\u001b[1m20/20\u001b[0m \u001b[32m━━━━━━━━━━━━━━━━━━━━\u001b[0m\u001b[37m\u001b[0m \u001b[1m0s\u001b[0m 22ms/step - loss: 0.0017 - mean_absolute_error: 0.0330\n",
      "Epoch 31/50\n",
      "\u001b[1m20/20\u001b[0m \u001b[32m━━━━━━━━━━━━━━━━━━━━\u001b[0m\u001b[37m\u001b[0m \u001b[1m0s\u001b[0m 24ms/step - loss: 0.0020 - mean_absolute_error: 0.0355\n",
      "Epoch 32/50\n",
      "\u001b[1m20/20\u001b[0m \u001b[32m━━━━━━━━━━━━━━━━━━━━\u001b[0m\u001b[37m\u001b[0m \u001b[1m0s\u001b[0m 24ms/step - loss: 0.0015 - mean_absolute_error: 0.0317\n",
      "Epoch 33/50\n",
      "\u001b[1m20/20\u001b[0m \u001b[32m━━━━━━━━━━━━━━━━━━━━\u001b[0m\u001b[37m\u001b[0m \u001b[1m0s\u001b[0m 21ms/step - loss: 0.0014 - mean_absolute_error: 0.0301\n",
      "Epoch 34/50\n",
      "\u001b[1m20/20\u001b[0m \u001b[32m━━━━━━━━━━━━━━━━━━━━\u001b[0m\u001b[37m\u001b[0m \u001b[1m0s\u001b[0m 24ms/step - loss: 0.0018 - mean_absolute_error: 0.0343\n",
      "Epoch 35/50\n",
      "\u001b[1m20/20\u001b[0m \u001b[32m━━━━━━━━━━━━━━━━━━━━\u001b[0m\u001b[37m\u001b[0m \u001b[1m0s\u001b[0m 24ms/step - loss: 0.0015 - mean_absolute_error: 0.0311\n",
      "Epoch 36/50\n",
      "\u001b[1m20/20\u001b[0m \u001b[32m━━━━━━━━━━━━━━━━━━━━\u001b[0m\u001b[37m\u001b[0m \u001b[1m1s\u001b[0m 25ms/step - loss: 0.0015 - mean_absolute_error: 0.0299\n",
      "Epoch 37/50\n",
      "\u001b[1m20/20\u001b[0m \u001b[32m━━━━━━━━━━━━━━━━━━━━\u001b[0m\u001b[37m\u001b[0m \u001b[1m1s\u001b[0m 24ms/step - loss: 0.0011 - mean_absolute_error: 0.0255  \n",
      "Epoch 38/50\n",
      "\u001b[1m20/20\u001b[0m \u001b[32m━━━━━━━━━━━━━━━━━━━━\u001b[0m\u001b[37m\u001b[0m \u001b[1m1s\u001b[0m 28ms/step - loss: 0.0014 - mean_absolute_error: 0.0294\n",
      "Epoch 39/50\n",
      "\u001b[1m20/20\u001b[0m \u001b[32m━━━━━━━━━━━━━━━━━━━━\u001b[0m\u001b[37m\u001b[0m \u001b[1m1s\u001b[0m 25ms/step - loss: 0.0011 - mean_absolute_error: 0.0271\n",
      "Epoch 40/50\n",
      "\u001b[1m20/20\u001b[0m \u001b[32m━━━━━━━━━━━━━━━━━━━━\u001b[0m\u001b[37m\u001b[0m \u001b[1m1s\u001b[0m 25ms/step - loss: 0.0013 - mean_absolute_error: 0.0283\n",
      "Epoch 41/50\n",
      "\u001b[1m20/20\u001b[0m \u001b[32m━━━━━━━━━━━━━━━━━━━━\u001b[0m\u001b[37m\u001b[0m \u001b[1m0s\u001b[0m 22ms/step - loss: 0.0012 - mean_absolute_error: 0.0284\n",
      "Epoch 42/50\n",
      "\u001b[1m20/20\u001b[0m \u001b[32m━━━━━━━━━━━━━━━━━━━━\u001b[0m\u001b[37m\u001b[0m \u001b[1m0s\u001b[0m 22ms/step - loss: 0.0012 - mean_absolute_error: 0.0282\n",
      "Epoch 43/50\n",
      "\u001b[1m20/20\u001b[0m \u001b[32m━━━━━━━━━━━━━━━━━━━━\u001b[0m\u001b[37m\u001b[0m \u001b[1m0s\u001b[0m 22ms/step - loss: 0.0011 - mean_absolute_error: 0.0265\n",
      "Epoch 44/50\n",
      "\u001b[1m20/20\u001b[0m \u001b[32m━━━━━━━━━━━━━━━━━━━━\u001b[0m\u001b[37m\u001b[0m \u001b[1m0s\u001b[0m 22ms/step - loss: 0.0010 - mean_absolute_error: 0.0255  \n",
      "Epoch 45/50\n",
      "\u001b[1m20/20\u001b[0m \u001b[32m━━━━━━━━━━━━━━━━━━━━\u001b[0m\u001b[37m\u001b[0m \u001b[1m1s\u001b[0m 24ms/step - loss: 0.0010 - mean_absolute_error: 0.0247\n",
      "Epoch 46/50\n",
      "\u001b[1m20/20\u001b[0m \u001b[32m━━━━━━━━━━━━━━━━━━━━\u001b[0m\u001b[37m\u001b[0m \u001b[1m1s\u001b[0m 26ms/step - loss: 9.3526e-04 - mean_absolute_error: 0.0245\n",
      "Epoch 47/50\n",
      "\u001b[1m20/20\u001b[0m \u001b[32m━━━━━━━━━━━━━━━━━━━━\u001b[0m\u001b[37m\u001b[0m \u001b[1m1s\u001b[0m 25ms/step - loss: 0.0011 - mean_absolute_error: 0.0257\n",
      "Epoch 48/50\n",
      "\u001b[1m20/20\u001b[0m \u001b[32m━━━━━━━━━━━━━━━━━━━━\u001b[0m\u001b[37m\u001b[0m \u001b[1m1s\u001b[0m 24ms/step - loss: 8.2778e-04 - mean_absolute_error: 0.0234\n",
      "Epoch 49/50\n",
      "\u001b[1m20/20\u001b[0m \u001b[32m━━━━━━━━━━━━━━━━━━━━\u001b[0m\u001b[37m\u001b[0m \u001b[1m0s\u001b[0m 22ms/step - loss: 9.5146e-04 - mean_absolute_error: 0.0244\n",
      "Epoch 50/50\n",
      "\u001b[1m20/20\u001b[0m \u001b[32m━━━━━━━━━━━━━━━━━━━━\u001b[0m\u001b[37m\u001b[0m \u001b[1m0s\u001b[0m 21ms/step - loss: 9.7209e-04 - mean_absolute_error: 0.0255\n",
      "1711897048.967107 ...  1711897072.922272 => 23.955164909362793\n"
     ]
    },
    {
     "data": {
      "text/html": [
       "<pre style=\"white-space:pre;overflow-x:auto;line-height:normal;font-family:Menlo,'DejaVu Sans Mono',consolas,'Courier New',monospace\"><span style=\"font-weight: bold\">Model: \"functional_1\"</span>\n",
       "</pre>\n"
      ],
      "text/plain": [
       "\u001b[1mModel: \"functional_1\"\u001b[0m\n"
      ]
     },
     "metadata": {},
     "output_type": "display_data"
    },
    {
     "data": {
      "text/html": [
       "<pre style=\"white-space:pre;overflow-x:auto;line-height:normal;font-family:Menlo,'DejaVu Sans Mono',consolas,'Courier New',monospace\">┏━━━━━━━━━━━━━━━━━━━━━┳━━━━━━━━━━━━━━━━━━━┳━━━━━━━━━━━━┳━━━━━━━━━━━━━━━━━━━┓\n",
       "┃<span style=\"font-weight: bold\"> Layer (type)        </span>┃<span style=\"font-weight: bold\"> Output Shape      </span>┃<span style=\"font-weight: bold\">    Param # </span>┃<span style=\"font-weight: bold\"> Connected to      </span>┃\n",
       "┡━━━━━━━━━━━━━━━━━━━━━╇━━━━━━━━━━━━━━━━━━━╇━━━━━━━━━━━━╇━━━━━━━━━━━━━━━━━━━┩\n",
       "│ Inp_Segment         │ (<span style=\"color: #00d7ff; text-decoration-color: #00d7ff\">None</span>, <span style=\"color: #00af00; text-decoration-color: #00af00\">12</span>)        │          <span style=\"color: #00af00; text-decoration-color: #00af00\">0</span> │ -                 │\n",
       "│ (<span style=\"color: #0087ff; text-decoration-color: #0087ff\">InputLayer</span>)        │                   │            │                   │\n",
       "├─────────────────────┼───────────────────┼────────────┼───────────────────┤\n",
       "│ Inp_Samples_count   │ (<span style=\"color: #00d7ff; text-decoration-color: #00d7ff\">None</span>, <span style=\"color: #00af00; text-decoration-color: #00af00\">12</span>)        │          <span style=\"color: #00af00; text-decoration-color: #00af00\">0</span> │ -                 │\n",
       "│ (<span style=\"color: #0087ff; text-decoration-color: #0087ff\">InputLayer</span>)        │                   │            │                   │\n",
       "├─────────────────────┼───────────────────┼────────────┼───────────────────┤\n",
       "│ Inp_Duration        │ (<span style=\"color: #00d7ff; text-decoration-color: #00d7ff\">None</span>, <span style=\"color: #00af00; text-decoration-color: #00af00\">12</span>)        │          <span style=\"color: #00af00; text-decoration-color: #00af00\">0</span> │ -                 │\n",
       "│ (<span style=\"color: #0087ff; text-decoration-color: #0087ff\">InputLayer</span>)        │                   │            │                   │\n",
       "├─────────────────────┼───────────────────┼────────────┼───────────────────┤\n",
       "│ Inp_Voltage_delta   │ (<span style=\"color: #00d7ff; text-decoration-color: #00d7ff\">None</span>, <span style=\"color: #00af00; text-decoration-color: #00af00\">12</span>)        │          <span style=\"color: #00af00; text-decoration-color: #00af00\">0</span> │ -                 │\n",
       "│ (<span style=\"color: #0087ff; text-decoration-color: #0087ff\">InputLayer</span>)        │                   │            │                   │\n",
       "├─────────────────────┼───────────────────┼────────────┼───────────────────┤\n",
       "│ Inp_Start_segment_… │ (<span style=\"color: #00d7ff; text-decoration-color: #00d7ff\">None</span>, <span style=\"color: #00af00; text-decoration-color: #00af00\">12</span>)        │          <span style=\"color: #00af00; text-decoration-color: #00af00\">0</span> │ -                 │\n",
       "│ (<span style=\"color: #0087ff; text-decoration-color: #0087ff\">InputLayer</span>)        │                   │            │                   │\n",
       "├─────────────────────┼───────────────────┼────────────┼───────────────────┤\n",
       "│ concatenate         │ (<span style=\"color: #00d7ff; text-decoration-color: #00d7ff\">None</span>, <span style=\"color: #00af00; text-decoration-color: #00af00\">60</span>)        │          <span style=\"color: #00af00; text-decoration-color: #00af00\">0</span> │ Inp_Segment[<span style=\"color: #00af00; text-decoration-color: #00af00\">0</span>][<span style=\"color: #00af00; text-decoration-color: #00af00\">0</span>… │\n",
       "│ (<span style=\"color: #0087ff; text-decoration-color: #0087ff\">Concatenate</span>)       │                   │            │ Inp_Samples_coun… │\n",
       "│                     │                   │            │ Inp_Duration[<span style=\"color: #00af00; text-decoration-color: #00af00\">0</span>][<span style=\"color: #00af00; text-decoration-color: #00af00\">…</span> │\n",
       "│                     │                   │            │ Inp_Voltage_delt… │\n",
       "│                     │                   │            │ Inp_Start_segmen… │\n",
       "├─────────────────────┼───────────────────┼────────────┼───────────────────┤\n",
       "│ mid_Start_segment_… │ (<span style=\"color: #00d7ff; text-decoration-color: #00d7ff\">None</span>, <span style=\"color: #00af00; text-decoration-color: #00af00\">13</span>)        │        <span style=\"color: #00af00; text-decoration-color: #00af00\">793</span> │ concatenate[<span style=\"color: #00af00; text-decoration-color: #00af00\">0</span>][<span style=\"color: #00af00; text-decoration-color: #00af00\">0</span>] │\n",
       "│ (<span style=\"color: #0087ff; text-decoration-color: #0087ff\">Dense</span>)             │                   │            │                   │\n",
       "├─────────────────────┼───────────────────┼────────────┼───────────────────┤\n",
       "│ out_Start_segment_… │ (<span style=\"color: #00d7ff; text-decoration-color: #00d7ff\">None</span>, <span style=\"color: #00af00; text-decoration-color: #00af00\">1</span>)         │         <span style=\"color: #00af00; text-decoration-color: #00af00\">14</span> │ mid_Start_segmen… │\n",
       "│ (<span style=\"color: #0087ff; text-decoration-color: #0087ff\">Dense</span>)             │                   │            │                   │\n",
       "└─────────────────────┴───────────────────┴────────────┴───────────────────┘\n",
       "</pre>\n"
      ],
      "text/plain": [
       "┏━━━━━━━━━━━━━━━━━━━━━┳━━━━━━━━━━━━━━━━━━━┳━━━━━━━━━━━━┳━━━━━━━━━━━━━━━━━━━┓\n",
       "┃\u001b[1m \u001b[0m\u001b[1mLayer (type)       \u001b[0m\u001b[1m \u001b[0m┃\u001b[1m \u001b[0m\u001b[1mOutput Shape     \u001b[0m\u001b[1m \u001b[0m┃\u001b[1m \u001b[0m\u001b[1m   Param #\u001b[0m\u001b[1m \u001b[0m┃\u001b[1m \u001b[0m\u001b[1mConnected to     \u001b[0m\u001b[1m \u001b[0m┃\n",
       "┡━━━━━━━━━━━━━━━━━━━━━╇━━━━━━━━━━━━━━━━━━━╇━━━━━━━━━━━━╇━━━━━━━━━━━━━━━━━━━┩\n",
       "│ Inp_Segment         │ (\u001b[38;5;45mNone\u001b[0m, \u001b[38;5;34m12\u001b[0m)        │          \u001b[38;5;34m0\u001b[0m │ -                 │\n",
       "│ (\u001b[38;5;33mInputLayer\u001b[0m)        │                   │            │                   │\n",
       "├─────────────────────┼───────────────────┼────────────┼───────────────────┤\n",
       "│ Inp_Samples_count   │ (\u001b[38;5;45mNone\u001b[0m, \u001b[38;5;34m12\u001b[0m)        │          \u001b[38;5;34m0\u001b[0m │ -                 │\n",
       "│ (\u001b[38;5;33mInputLayer\u001b[0m)        │                   │            │                   │\n",
       "├─────────────────────┼───────────────────┼────────────┼───────────────────┤\n",
       "│ Inp_Duration        │ (\u001b[38;5;45mNone\u001b[0m, \u001b[38;5;34m12\u001b[0m)        │          \u001b[38;5;34m0\u001b[0m │ -                 │\n",
       "│ (\u001b[38;5;33mInputLayer\u001b[0m)        │                   │            │                   │\n",
       "├─────────────────────┼───────────────────┼────────────┼───────────────────┤\n",
       "│ Inp_Voltage_delta   │ (\u001b[38;5;45mNone\u001b[0m, \u001b[38;5;34m12\u001b[0m)        │          \u001b[38;5;34m0\u001b[0m │ -                 │\n",
       "│ (\u001b[38;5;33mInputLayer\u001b[0m)        │                   │            │                   │\n",
       "├─────────────────────┼───────────────────┼────────────┼───────────────────┤\n",
       "│ Inp_Start_segment_… │ (\u001b[38;5;45mNone\u001b[0m, \u001b[38;5;34m12\u001b[0m)        │          \u001b[38;5;34m0\u001b[0m │ -                 │\n",
       "│ (\u001b[38;5;33mInputLayer\u001b[0m)        │                   │            │                   │\n",
       "├─────────────────────┼───────────────────┼────────────┼───────────────────┤\n",
       "│ concatenate         │ (\u001b[38;5;45mNone\u001b[0m, \u001b[38;5;34m60\u001b[0m)        │          \u001b[38;5;34m0\u001b[0m │ Inp_Segment[\u001b[38;5;34m0\u001b[0m][\u001b[38;5;34m0\u001b[0m… │\n",
       "│ (\u001b[38;5;33mConcatenate\u001b[0m)       │                   │            │ Inp_Samples_coun… │\n",
       "│                     │                   │            │ Inp_Duration[\u001b[38;5;34m0\u001b[0m][\u001b[38;5;34m…\u001b[0m │\n",
       "│                     │                   │            │ Inp_Voltage_delt… │\n",
       "│                     │                   │            │ Inp_Start_segmen… │\n",
       "├─────────────────────┼───────────────────┼────────────┼───────────────────┤\n",
       "│ mid_Start_segment_… │ (\u001b[38;5;45mNone\u001b[0m, \u001b[38;5;34m13\u001b[0m)        │        \u001b[38;5;34m793\u001b[0m │ concatenate[\u001b[38;5;34m0\u001b[0m][\u001b[38;5;34m0\u001b[0m] │\n",
       "│ (\u001b[38;5;33mDense\u001b[0m)             │                   │            │                   │\n",
       "├─────────────────────┼───────────────────┼────────────┼───────────────────┤\n",
       "│ out_Start_segment_… │ (\u001b[38;5;45mNone\u001b[0m, \u001b[38;5;34m1\u001b[0m)         │         \u001b[38;5;34m14\u001b[0m │ mid_Start_segmen… │\n",
       "│ (\u001b[38;5;33mDense\u001b[0m)             │                   │            │                   │\n",
       "└─────────────────────┴───────────────────┴────────────┴───────────────────┘\n"
      ]
     },
     "metadata": {},
     "output_type": "display_data"
    },
    {
     "data": {
      "text/html": [
       "<pre style=\"white-space:pre;overflow-x:auto;line-height:normal;font-family:Menlo,'DejaVu Sans Mono',consolas,'Courier New',monospace\"><span style=\"font-weight: bold\"> Total params: </span><span style=\"color: #00af00; text-decoration-color: #00af00\">2,423</span> (9.47 KB)\n",
       "</pre>\n"
      ],
      "text/plain": [
       "\u001b[1m Total params: \u001b[0m\u001b[38;5;34m2,423\u001b[0m (9.47 KB)\n"
      ]
     },
     "metadata": {},
     "output_type": "display_data"
    },
    {
     "data": {
      "text/html": [
       "<pre style=\"white-space:pre;overflow-x:auto;line-height:normal;font-family:Menlo,'DejaVu Sans Mono',consolas,'Courier New',monospace\"><span style=\"font-weight: bold\"> Trainable params: </span><span style=\"color: #00af00; text-decoration-color: #00af00\">807</span> (3.15 KB)\n",
       "</pre>\n"
      ],
      "text/plain": [
       "\u001b[1m Trainable params: \u001b[0m\u001b[38;5;34m807\u001b[0m (3.15 KB)\n"
      ]
     },
     "metadata": {},
     "output_type": "display_data"
    },
    {
     "data": {
      "text/html": [
       "<pre style=\"white-space:pre;overflow-x:auto;line-height:normal;font-family:Menlo,'DejaVu Sans Mono',consolas,'Courier New',monospace\"><span style=\"font-weight: bold\"> Non-trainable params: </span><span style=\"color: #00af00; text-decoration-color: #00af00\">0</span> (0.00 B)\n",
       "</pre>\n"
      ],
      "text/plain": [
       "\u001b[1m Non-trainable params: \u001b[0m\u001b[38;5;34m0\u001b[0m (0.00 B)\n"
      ]
     },
     "metadata": {},
     "output_type": "display_data"
    },
    {
     "data": {
      "text/html": [
       "<pre style=\"white-space:pre;overflow-x:auto;line-height:normal;font-family:Menlo,'DejaVu Sans Mono',consolas,'Courier New',monospace\"><span style=\"font-weight: bold\"> Optimizer params: </span><span style=\"color: #00af00; text-decoration-color: #00af00\">1,616</span> (6.32 KB)\n",
       "</pre>\n"
      ],
      "text/plain": [
       "\u001b[1m Optimizer params: \u001b[0m\u001b[38;5;34m1,616\u001b[0m (6.32 KB)\n"
      ]
     },
     "metadata": {},
     "output_type": "display_data"
    }
   ],
   "source": [
    "import time\n",
    "start = time.time()\n",
    "epochs_hist = model.fit(x_train, y_train[predicted_parameters], epochs = EPOCHS_COUNT, batch_size = COUNT_BATCH_SIZE)\n",
    "end = time.time()\n",
    "print(start,'... ',end, '=>', (end-start))\n",
    "\n",
    "model.summary()"
   ]
  },
  {
   "cell_type": "code",
   "execution_count": 14,
   "id": "c2b2f1f1-4c01-4b0b-b763-1457a3692015",
   "metadata": {},
   "outputs": [
    {
     "name": "stdout",
     "output_type": "stream",
     "text": [
      "\u001b[1m2/2\u001b[0m \u001b[32m━━━━━━━━━━━━━━━━━━━━\u001b[0m\u001b[37m\u001b[0m \u001b[1m0s\u001b[0m 9ms/step - loss: 0.0031 - mean_absolute_error: 0.0411 \n"
     ]
    }
   ],
   "source": [
    "# assessment of the quality of the model on the test set\n",
    "scores = model.evaluate(x_test, y_test[predicted_parameters])\n"
   ]
  },
  {
   "cell_type": "markdown",
   "id": "b37be190-0d15-42b6-9491-d9818c2a07f1",
   "metadata": {},
   "source": [
    "Forecasts:\n",
    "=========="
   ]
  },
  {
   "cell_type": "markdown",
   "id": "64549d32-5e90-49ee-84a2-f42f48cc51b4",
   "metadata": {
    "jp-MarkdownHeadingCollapsed": true
   },
   "source": [
    "- Test ANN\n",
    "  --------"
   ]
  },
  {
   "cell_type": "code",
   "execution_count": 15,
   "id": "e573e7b7-e77c-48d1-a217-472a8d98e3f1",
   "metadata": {},
   "outputs": [
    {
     "name": "stdout",
     "output_type": "stream",
     "text": [
      "\u001b[1m2/2\u001b[0m \u001b[32m━━━━━━━━━━━━━━━━━━━━\u001b[0m\u001b[37m\u001b[0m \u001b[1m0s\u001b[0m 5ms/step \n"
     ]
    }
   ],
   "source": [
    "ann_test = model.predict(x_test)\n"
   ]
  },
  {
   "cell_type": "markdown",
   "id": "b6ae4e07-61ef-4ed6-ab00-69605a3ec89f",
   "metadata": {
    "jp-MarkdownHeadingCollapsed": true
   },
   "source": [
    "- Forecast with the time-windows method\n",
    "  -------------------------------------"
   ]
  },
  {
   "cell_type": "code",
   "execution_count": 16,
   "id": "854c14de-e916-4c96-b265-227c00dd1c51",
   "metadata": {},
   "outputs": [
    {
     "name": "stdout",
     "output_type": "stream",
     "text": [
      "(300, 5)\n",
      " -- Segment\n",
      " -- Samples count\n",
      " -- Duration\n",
      " -- Voltage delta\n",
      " -- Start segment voltage\n",
      "\u001b[1m1/1\u001b[0m \u001b[32m━━━━━━━━━━━━━━━━━━━━\u001b[0m\u001b[37m\u001b[0m \u001b[1m0s\u001b[0m 19ms/step\n",
      " -- Segment\n",
      " -- Samples count\n",
      " -- Duration\n",
      " -- Voltage delta\n",
      " -- Start segment voltage\n",
      "\u001b[1m1/1\u001b[0m \u001b[32m━━━━━━━━━━━━━━━━━━━━\u001b[0m\u001b[37m\u001b[0m \u001b[1m0s\u001b[0m 21ms/step\n",
      " -- Segment\n",
      " -- Samples count\n",
      " -- Duration\n",
      " -- Voltage delta\n",
      " -- Start segment voltage\n",
      "\u001b[1m1/1\u001b[0m \u001b[32m━━━━━━━━━━━━━━━━━━━━\u001b[0m\u001b[37m\u001b[0m \u001b[1m0s\u001b[0m 19ms/step"
     ]
    },
    {
     "name": "stderr",
     "output_type": "stream",
     "text": [
      "/Users/ozabolotnyy/myProjects/OLENA/plPolitech/PyANN/Archive_2/UTILS/anns_utils_py.py:54: FutureWarning: The behavior of DataFrame concatenation with empty or all-NA entries is deprecated. In a future version, this will no longer exclude empty or all-NA columns when determining the result dtypes. To retain the old behavior, exclude the relevant entries before the concat operation.\n",
      "  df_predictions = pd.concat([df_predictions, df_predicted]);\n"
     ]
    },
    {
     "name": "stdout",
     "output_type": "stream",
     "text": [
      "\u001b[1m1/1\u001b[0m \u001b[32m━━━━━━━━━━━━━━━━━━━━\u001b[0m\u001b[37m\u001b[0m \u001b[1m0s\u001b[0m 19ms/step\n",
      " -- Segment\n",
      " -- Samples count\n",
      " -- Duration\n",
      " -- Voltage delta\n",
      " -- Start segment voltage\n",
      "\u001b[1m1/1\u001b[0m \u001b[32m━━━━━━━━━━━━━━━━━━━━\u001b[0m\u001b[37m\u001b[0m \u001b[1m0s\u001b[0m 20ms/step\n",
      " -- Segment\n",
      " -- Samples count\n",
      " -- Duration\n",
      " -- Voltage delta\n",
      " -- Start segment voltage\n",
      "\u001b[1m1/1\u001b[0m \u001b[32m━━━━━━━━━━━━━━━━━━━━\u001b[0m\u001b[37m\u001b[0m \u001b[1m0s\u001b[0m 18ms/step\n",
      " -- Segment\n",
      " -- Samples count\n",
      " -- Duration\n",
      " -- Voltage delta\n",
      " -- Start segment voltage\n",
      "\u001b[1m1/1\u001b[0m \u001b[32m━━━━━━━━━━━━━━━━━━━━\u001b[0m\u001b[37m\u001b[0m \u001b[1m0s\u001b[0m 17ms/step\n",
      " -- Segment\n",
      " -- Samples count\n",
      " -- Duration\n",
      " -- Voltage delta\n",
      " -- Start segment voltage\n",
      "\u001b[1m1/1\u001b[0m \u001b[32m━━━━━━━━━━━━━━━━━━━━\u001b[0m\u001b[37m\u001b[0m \u001b[1m0s\u001b[0m 19ms/step\n",
      " -- Segment\n",
      " -- Samples count\n",
      " -- Duration\n",
      " -- Voltage delta\n",
      " -- Start segment voltage\n",
      "\u001b[1m1/1\u001b[0m \u001b[32m━━━━━━━━━━━━━━━━━━━━\u001b[0m\u001b[37m\u001b[0m \u001b[1m0s\u001b[0m 20ms/step\n",
      " -- Segment\n",
      " -- Samples count\n",
      " -- Duration\n",
      " -- Voltage delta\n",
      " -- Start segment voltage\n",
      "\u001b[1m1/1\u001b[0m \u001b[32m━━━━━━━━━━━━━━━━━━━━\u001b[0m\u001b[37m\u001b[0m \u001b[1m0s\u001b[0m 19ms/step\n",
      " -- Segment\n",
      " -- Samples count\n",
      " -- Duration\n",
      " -- Voltage delta\n",
      " -- Start segment voltage\n",
      "\u001b[1m1/1\u001b[0m \u001b[32m━━━━━━━━━━━━━━━━━━━━\u001b[0m\u001b[37m\u001b[0m \u001b[1m0s\u001b[0m 19ms/step\n",
      " -- Segment\n",
      " -- Samples count\n",
      " -- Duration\n",
      " -- Voltage delta\n",
      " -- Start segment voltage\n",
      "\u001b[1m1/1\u001b[0m \u001b[32m━━━━━━━━━━━━━━━━━━━━\u001b[0m\u001b[37m\u001b[0m \u001b[1m0s\u001b[0m 19ms/step\n",
      " -- Segment\n",
      " -- Samples count\n",
      " -- Duration\n",
      " -- Voltage delta\n",
      " -- Start segment voltage\n",
      "\u001b[1m1/1\u001b[0m \u001b[32m━━━━━━━━━━━━━━━━━━━━\u001b[0m\u001b[37m\u001b[0m \u001b[1m0s\u001b[0m 18ms/step\n",
      " -- Segment\n",
      " -- Samples count\n",
      " -- Duration\n",
      " -- Voltage delta\n",
      " -- Start segment voltage\n",
      "\u001b[1m1/1\u001b[0m \u001b[32m━━━━━━━━━━━━━━━━━━━━\u001b[0m\u001b[37m\u001b[0m \u001b[1m0s\u001b[0m 18ms/step\n",
      " -- Segment\n",
      " -- Samples count\n",
      " -- Duration\n",
      " -- Voltage delta\n",
      " -- Start segment voltage\n",
      "\u001b[1m1/1\u001b[0m \u001b[32m━━━━━━━━━━━━━━━━━━━━\u001b[0m\u001b[37m\u001b[0m \u001b[1m0s\u001b[0m 18ms/step\n",
      " -- Segment\n",
      " -- Samples count\n",
      " -- Duration\n",
      " -- Voltage delta\n",
      " -- Start segment voltage\n",
      "\u001b[1m1/1\u001b[0m \u001b[32m━━━━━━━━━━━━━━━━━━━━\u001b[0m\u001b[37m\u001b[0m \u001b[1m0s\u001b[0m 18ms/step\n",
      " -- Segment\n",
      " -- Samples count\n",
      " -- Duration\n",
      " -- Voltage delta\n",
      " -- Start segment voltage\n",
      "\u001b[1m1/1\u001b[0m \u001b[32m━━━━━━━━━━━━━━━━━━━━\u001b[0m\u001b[37m\u001b[0m \u001b[1m0s\u001b[0m 24ms/step\n",
      " -- Segment\n",
      " -- Samples count\n",
      " -- Duration\n",
      " -- Voltage delta\n",
      " -- Start segment voltage\n",
      "\u001b[1m1/1\u001b[0m \u001b[32m━━━━━━━━━━━━━━━━━━━━\u001b[0m\u001b[37m\u001b[0m \u001b[1m0s\u001b[0m 19ms/step\n",
      " -- Segment\n",
      " -- Samples count\n",
      " -- Duration\n",
      " -- Voltage delta\n",
      " -- Start segment voltage\n",
      "\u001b[1m1/1\u001b[0m \u001b[32m━━━━━━━━━━━━━━━━━━━━\u001b[0m\u001b[37m\u001b[0m \u001b[1m0s\u001b[0m 19ms/step\n",
      " -- Segment\n",
      " -- Samples count\n",
      " -- Duration\n",
      " -- Voltage delta\n",
      " -- Start segment voltage\n",
      "\u001b[1m1/1\u001b[0m \u001b[32m━━━━━━━━━━━━━━━━━━━━\u001b[0m\u001b[37m\u001b[0m \u001b[1m0s\u001b[0m 18ms/step\n",
      " -- Segment\n",
      " -- Samples count\n",
      " -- Duration\n",
      " -- Voltage delta\n",
      " -- Start segment voltage\n",
      "\u001b[1m1/1\u001b[0m \u001b[32m━━━━━━━━━━━━━━━━━━━━\u001b[0m\u001b[37m\u001b[0m \u001b[1m0s\u001b[0m 18ms/step\n",
      " -- Segment\n",
      " -- Samples count\n",
      " -- Duration\n",
      " -- Voltage delta\n",
      " -- Start segment voltage\n",
      "\u001b[1m1/1\u001b[0m \u001b[32m━━━━━━━━━━━━━━━━━━━━\u001b[0m\u001b[37m\u001b[0m \u001b[1m0s\u001b[0m 23ms/step\n",
      " -- Segment\n",
      " -- Samples count\n",
      " -- Duration\n",
      " -- Voltage delta\n",
      " -- Start segment voltage\n",
      "\u001b[1m1/1\u001b[0m \u001b[32m━━━━━━━━━━━━━━━━━━━━\u001b[0m\u001b[37m\u001b[0m \u001b[1m0s\u001b[0m 18ms/step\n",
      " -- Segment\n",
      " -- Samples count\n",
      " -- Duration\n",
      " -- Voltage delta\n",
      " -- Start segment voltage\n",
      "\u001b[1m1/1\u001b[0m \u001b[32m━━━━━━━━━━━━━━━━━━━━\u001b[0m\u001b[37m\u001b[0m \u001b[1m0s\u001b[0m 18ms/step\n",
      " -- Segment\n",
      " -- Samples count\n",
      " -- Duration\n",
      " -- Voltage delta\n",
      " -- Start segment voltage\n",
      "\u001b[1m1/1\u001b[0m \u001b[32m━━━━━━━━━━━━━━━━━━━━\u001b[0m\u001b[37m\u001b[0m \u001b[1m0s\u001b[0m 18ms/step\n",
      " -- Segment\n",
      " -- Samples count\n",
      " -- Duration\n",
      " -- Voltage delta\n",
      " -- Start segment voltage\n",
      "\u001b[1m1/1\u001b[0m \u001b[32m━━━━━━━━━━━━━━━━━━━━\u001b[0m\u001b[37m\u001b[0m \u001b[1m0s\u001b[0m 18ms/step\n",
      " -- Segment\n",
      " -- Samples count\n",
      " -- Duration\n",
      " -- Voltage delta\n",
      " -- Start segment voltage\n",
      "\u001b[1m1/1\u001b[0m \u001b[32m━━━━━━━━━━━━━━━━━━━━\u001b[0m\u001b[37m\u001b[0m \u001b[1m0s\u001b[0m 20ms/step\n",
      " -- Segment\n",
      " -- Samples count\n",
      " -- Duration\n",
      " -- Voltage delta\n",
      " -- Start segment voltage\n",
      "\u001b[1m1/1\u001b[0m \u001b[32m━━━━━━━━━━━━━━━━━━━━\u001b[0m\u001b[37m\u001b[0m \u001b[1m0s\u001b[0m 18ms/step\n",
      " -- Segment\n",
      " -- Samples count\n",
      " -- Duration\n",
      " -- Voltage delta\n",
      " -- Start segment voltage\n",
      "\u001b[1m1/1\u001b[0m \u001b[32m━━━━━━━━━━━━━━━━━━━━\u001b[0m\u001b[37m\u001b[0m \u001b[1m0s\u001b[0m 18ms/step\n",
      " -- Segment\n",
      " -- Samples count\n",
      " -- Duration\n",
      " -- Voltage delta\n",
      " -- Start segment voltage\n",
      "\u001b[1m1/1\u001b[0m \u001b[32m━━━━━━━━━━━━━━━━━━━━\u001b[0m\u001b[37m\u001b[0m \u001b[1m0s\u001b[0m 18ms/step\n",
      " -- Segment\n",
      " -- Samples count\n",
      " -- Duration\n",
      " -- Voltage delta\n",
      " -- Start segment voltage\n",
      "\u001b[1m1/1\u001b[0m \u001b[32m━━━━━━━━━━━━━━━━━━━━\u001b[0m\u001b[37m\u001b[0m \u001b[1m0s\u001b[0m 24ms/step\n",
      " -- Segment\n",
      " -- Samples count\n",
      " -- Duration\n",
      " -- Voltage delta\n",
      " -- Start segment voltage\n",
      "\u001b[1m1/1\u001b[0m \u001b[32m━━━━━━━━━━━━━━━━━━━━\u001b[0m\u001b[37m\u001b[0m \u001b[1m0s\u001b[0m 18ms/step\n",
      " -- Segment\n",
      " -- Samples count\n",
      " -- Duration\n",
      " -- Voltage delta\n",
      " -- Start segment voltage\n",
      "\u001b[1m1/1\u001b[0m \u001b[32m━━━━━━━━━━━━━━━━━━━━\u001b[0m\u001b[37m\u001b[0m \u001b[1m0s\u001b[0m 17ms/step\n",
      " -- Segment\n",
      " -- Samples count\n",
      " -- Duration\n",
      " -- Voltage delta\n",
      " -- Start segment voltage\n",
      "\u001b[1m1/1\u001b[0m \u001b[32m━━━━━━━━━━━━━━━━━━━━\u001b[0m\u001b[37m\u001b[0m \u001b[1m0s\u001b[0m 18ms/step\n",
      " -- Segment\n",
      " -- Samples count\n",
      " -- Duration\n",
      " -- Voltage delta\n",
      " -- Start segment voltage\n",
      "\u001b[1m1/1\u001b[0m \u001b[32m━━━━━━━━━━━━━━━━━━━━\u001b[0m\u001b[37m\u001b[0m \u001b[1m0s\u001b[0m 19ms/step\n",
      " -- Segment\n",
      " -- Samples count\n",
      " -- Duration\n",
      " -- Voltage delta\n",
      " -- Start segment voltage\n",
      "\u001b[1m1/1\u001b[0m \u001b[32m━━━━━━━━━━━━━━━━━━━━\u001b[0m\u001b[37m\u001b[0m \u001b[1m0s\u001b[0m 18ms/step\n",
      " -- Segment\n",
      " -- Samples count\n",
      " -- Duration\n",
      " -- Voltage delta\n",
      " -- Start segment voltage\n",
      "\u001b[1m1/1\u001b[0m \u001b[32m━━━━━━━━━━━━━━━━━━━━\u001b[0m\u001b[37m\u001b[0m \u001b[1m0s\u001b[0m 18ms/step\n",
      " -- Segment\n",
      " -- Samples count\n",
      " -- Duration\n",
      " -- Voltage delta\n",
      " -- Start segment voltage\n",
      "\u001b[1m1/1\u001b[0m \u001b[32m━━━━━━━━━━━━━━━━━━━━\u001b[0m\u001b[37m\u001b[0m \u001b[1m0s\u001b[0m 18ms/step\n",
      " -- Segment\n",
      " -- Samples count\n",
      " -- Duration\n",
      " -- Voltage delta\n",
      " -- Start segment voltage\n",
      "\u001b[1m1/1\u001b[0m \u001b[32m━━━━━━━━━━━━━━━━━━━━\u001b[0m\u001b[37m\u001b[0m \u001b[1m0s\u001b[0m 18ms/step\n"
     ]
    }
   ],
   "source": [
    "# predict with the time-windows method\n",
    "df_knowns = y_test.loc[LEARN_COUNT:LEARN_COUNT+PREDICT_COUNT+INPUT_NEURONS_COUNT, STATIC_PARAMETERS];\n",
    "\n",
    "# df_knowns = y_test\n",
    "ptw = predict_time_window_with_knowns(y_train, model, predicted_parameters, df_knowns)\n"
   ]
  },
  {
   "cell_type": "markdown",
   "id": "10f6395a-500a-4590-95c9-9161c4cf2df2",
   "metadata": {
    "jp-MarkdownHeadingCollapsed": true
   },
   "source": [
    " - Forecast static ann-inputs via the Stationary process modeling method\n",
    "   ---------------------------------------------------------------------"
   ]
  },
  {
   "cell_type": "code",
   "execution_count": 19,
   "id": "118d66d6-ec2c-4e44-aed3-ac8273627b18",
   "metadata": {},
   "outputs": [],
   "source": [
    "route_in_sectors = df_raw.Segment[-PREDICT_COUNT:]\n",
    "\n",
    "df_segments_dictionary.index = df_segments_dictionary.Segment\n",
    "stationaty_means_forecasts = df_segments_dictionary.loc[route_in_sectors,STATIC_PARAMETERS]\n",
    "stationaty_means_forecasts.index = route_in_sectors.index\n",
    "\n",
    "stationaty_means_normalized, _ = re_normalize_data(stationaty_means_forecasts, min_max)\n",
    "# stationaty_means_normalized[[\"Voltage delta\", \"Duration\"]].plot()\n",
    "\n"
   ]
  },
  {
   "cell_type": "code",
   "execution_count": 20,
   "id": "3794ab0e-41df-422e-82e8-70d1445de208",
   "metadata": {},
   "outputs": [
    {
     "data": {
      "text/plain": [
       "38"
      ]
     },
     "execution_count": 20,
     "metadata": {},
     "output_type": "execute_result"
    }
   ],
   "source": [
    "voltage_0 = y_train.iloc[-1, :][ predicted_parameters].values[0]\n",
    "stationary_forecast = [voltage_0 := voltage_0 - x for x in stationaty_means_normalized[\"Voltage delta\"] ]\n",
    "len(stationary_forecast)"
   ]
  },
  {
   "cell_type": "markdown",
   "id": "acb37b9e-e778-4023-96ee-37769074c949",
   "metadata": {
    "jp-MarkdownHeadingCollapsed": true
   },
   "source": [
    "- Time-Window Forecast with the modeled static parameters as the stationary processes\n",
    "  -----------------------------------------------------------------------------------"
   ]
  },
  {
   "cell_type": "code",
   "execution_count": 21,
   "id": "5f0ae653-d282-4d50-b779-520a18c7bda6",
   "metadata": {},
   "outputs": [
    {
     "name": "stdout",
     "output_type": "stream",
     "text": [
      "(300, 5)\n",
      " -- Segment\n",
      " -- Samples count\n",
      " -- Duration\n",
      " -- Voltage delta\n",
      " -- Start segment voltage\n",
      "\u001b[1m1/1\u001b[0m \u001b[32m━━━━━━━━━━━━━━━━━━━━\u001b[0m\u001b[37m\u001b[0m \u001b[1m0s\u001b[0m 19ms/step\n",
      " -- Segment\n",
      " -- Samples count\n",
      " -- Duration\n",
      " -- Voltage delta\n",
      " -- Start segment voltage\n",
      "\u001b[1m1/1\u001b[0m \u001b[32m━━━━━━━━━━━━━━━━━━━━\u001b[0m\u001b[37m\u001b[0m \u001b[1m0s\u001b[0m 20ms/step\n",
      " -- Segment\n",
      " -- Samples count\n",
      " -- Duration\n",
      " -- Voltage delta\n",
      " -- Start segment voltage\n"
     ]
    },
    {
     "name": "stderr",
     "output_type": "stream",
     "text": [
      "/Users/ozabolotnyy/myProjects/OLENA/plPolitech/PyANN/Archive_2/UTILS/anns_utils_py.py:54: FutureWarning: The behavior of DataFrame concatenation with empty or all-NA entries is deprecated. In a future version, this will no longer exclude empty or all-NA columns when determining the result dtypes. To retain the old behavior, exclude the relevant entries before the concat operation.\n",
      "  df_predictions = pd.concat([df_predictions, df_predicted]);\n"
     ]
    },
    {
     "name": "stdout",
     "output_type": "stream",
     "text": [
      "\u001b[1m1/1\u001b[0m \u001b[32m━━━━━━━━━━━━━━━━━━━━\u001b[0m\u001b[37m\u001b[0m \u001b[1m0s\u001b[0m 23ms/step\n",
      " -- Segment\n",
      " -- Samples count\n",
      " -- Duration\n",
      " -- Voltage delta\n",
      " -- Start segment voltage\n",
      "\u001b[1m1/1\u001b[0m \u001b[32m━━━━━━━━━━━━━━━━━━━━\u001b[0m\u001b[37m\u001b[0m \u001b[1m0s\u001b[0m 19ms/step\n",
      " -- Segment\n",
      " -- Samples count\n",
      " -- Duration\n",
      " -- Voltage delta\n",
      " -- Start segment voltage\n",
      "\u001b[1m1/1\u001b[0m \u001b[32m━━━━━━━━━━━━━━━━━━━━\u001b[0m\u001b[37m\u001b[0m \u001b[1m0s\u001b[0m 18ms/step\n",
      " -- Segment\n",
      " -- Samples count\n",
      " -- Duration\n",
      " -- Voltage delta\n",
      " -- Start segment voltage\n",
      "\u001b[1m1/1\u001b[0m \u001b[32m━━━━━━━━━━━━━━━━━━━━\u001b[0m\u001b[37m\u001b[0m \u001b[1m0s\u001b[0m 21ms/step\n",
      " -- Segment\n",
      " -- Samples count\n",
      " -- Duration\n",
      " -- Voltage delta\n",
      " -- Start segment voltage\n",
      "\u001b[1m1/1\u001b[0m \u001b[32m━━━━━━━━━━━━━━━━━━━━\u001b[0m\u001b[37m\u001b[0m \u001b[1m0s\u001b[0m 19ms/step\n",
      " -- Segment\n",
      " -- Samples count\n",
      " -- Duration\n",
      " -- Voltage delta\n",
      " -- Start segment voltage\n",
      "\u001b[1m1/1\u001b[0m \u001b[32m━━━━━━━━━━━━━━━━━━━━\u001b[0m\u001b[37m\u001b[0m \u001b[1m0s\u001b[0m 16ms/step\n",
      " -- Segment\n",
      " -- Samples count\n",
      " -- Duration\n",
      " -- Voltage delta\n",
      " -- Start segment voltage\n",
      "\u001b[1m1/1\u001b[0m \u001b[32m━━━━━━━━━━━━━━━━━━━━\u001b[0m\u001b[37m\u001b[0m \u001b[1m0s\u001b[0m 18ms/step\n",
      " -- Segment\n",
      " -- Samples count\n",
      " -- Duration\n",
      " -- Voltage delta\n",
      " -- Start segment voltage\n",
      "\u001b[1m1/1\u001b[0m \u001b[32m━━━━━━━━━━━━━━━━━━━━\u001b[0m\u001b[37m\u001b[0m \u001b[1m0s\u001b[0m 19ms/step\n",
      " -- Segment\n",
      " -- Samples count\n",
      " -- Duration\n",
      " -- Voltage delta\n",
      " -- Start segment voltage\n",
      "\u001b[1m1/1\u001b[0m \u001b[32m━━━━━━━━━━━━━━━━━━━━\u001b[0m\u001b[37m\u001b[0m \u001b[1m0s\u001b[0m 21ms/step\n",
      " -- Segment\n",
      " -- Samples count\n",
      " -- Duration\n",
      " -- Voltage delta\n",
      " -- Start segment voltage\n",
      "\u001b[1m1/1\u001b[0m \u001b[32m━━━━━━━━━━━━━━━━━━━━\u001b[0m\u001b[37m\u001b[0m \u001b[1m0s\u001b[0m 19ms/step\n",
      " -- Segment\n",
      " -- Samples count\n",
      " -- Duration\n",
      " -- Voltage delta\n",
      " -- Start segment voltage\n",
      "\u001b[1m1/1\u001b[0m \u001b[32m━━━━━━━━━━━━━━━━━━━━\u001b[0m\u001b[37m\u001b[0m \u001b[1m0s\u001b[0m 18ms/step\n",
      " -- Segment\n",
      " -- Samples count\n",
      " -- Duration\n",
      " -- Voltage delta\n",
      " -- Start segment voltage\n",
      "\u001b[1m1/1\u001b[0m \u001b[32m━━━━━━━━━━━━━━━━━━━━\u001b[0m\u001b[37m\u001b[0m \u001b[1m0s\u001b[0m 18ms/step\n",
      " -- Segment\n",
      " -- Samples count\n",
      " -- Duration\n",
      " -- Voltage delta\n",
      " -- Start segment voltage\n",
      "\u001b[1m1/1\u001b[0m \u001b[32m━━━━━━━━━━━━━━━━━━━━\u001b[0m\u001b[37m\u001b[0m \u001b[1m0s\u001b[0m 20ms/step\n",
      " -- Segment\n",
      " -- Samples count\n",
      " -- Duration\n",
      " -- Voltage delta\n",
      " -- Start segment voltage\n",
      "\u001b[1m1/1\u001b[0m \u001b[32m━━━━━━━━━━━━━━━━━━━━\u001b[0m\u001b[37m\u001b[0m \u001b[1m0s\u001b[0m 22ms/step\n",
      " -- Segment\n",
      " -- Samples count\n",
      " -- Duration\n",
      " -- Voltage delta\n",
      " -- Start segment voltage\n",
      "\u001b[1m1/1\u001b[0m \u001b[32m━━━━━━━━━━━━━━━━━━━━\u001b[0m\u001b[37m\u001b[0m \u001b[1m0s\u001b[0m 18ms/step\n",
      " -- Segment\n",
      " -- Samples count\n",
      " -- Duration\n",
      " -- Voltage delta\n",
      " -- Start segment voltage\n",
      "\u001b[1m1/1\u001b[0m \u001b[32m━━━━━━━━━━━━━━━━━━━━\u001b[0m\u001b[37m\u001b[0m \u001b[1m0s\u001b[0m 19ms/step\n",
      " -- Segment\n",
      " -- Samples count\n",
      " -- Duration\n",
      " -- Voltage delta\n",
      " -- Start segment voltage\n",
      "\u001b[1m1/1\u001b[0m \u001b[32m━━━━━━━━━━━━━━━━━━━━\u001b[0m\u001b[37m\u001b[0m \u001b[1m0s\u001b[0m 19ms/step\n",
      " -- Segment\n",
      " -- Samples count\n",
      " -- Duration\n",
      " -- Voltage delta\n",
      " -- Start segment voltage\n",
      "\u001b[1m1/1\u001b[0m \u001b[32m━━━━━━━━━━━━━━━━━━━━\u001b[0m\u001b[37m\u001b[0m \u001b[1m0s\u001b[0m 19ms/step\n",
      " -- Segment\n",
      " -- Samples count\n",
      " -- Duration\n",
      " -- Voltage delta\n",
      " -- Start segment voltage\n",
      "\u001b[1m1/1\u001b[0m \u001b[32m━━━━━━━━━━━━━━━━━━━━\u001b[0m\u001b[37m\u001b[0m \u001b[1m0s\u001b[0m 19ms/step\n",
      " -- Segment\n",
      " -- Samples count\n",
      " -- Duration\n",
      " -- Voltage delta\n",
      " -- Start segment voltage\n",
      "\u001b[1m1/1\u001b[0m \u001b[32m━━━━━━━━━━━━━━━━━━━━\u001b[0m\u001b[37m\u001b[0m \u001b[1m0s\u001b[0m 19ms/step\n",
      " -- Segment\n",
      " -- Samples count\n",
      " -- Duration\n",
      " -- Voltage delta\n",
      " -- Start segment voltage\n",
      "\u001b[1m1/1\u001b[0m \u001b[32m━━━━━━━━━━━━━━━━━━━━\u001b[0m\u001b[37m\u001b[0m \u001b[1m0s\u001b[0m 22ms/step\n",
      " -- Segment\n",
      " -- Samples count\n",
      " -- Duration\n",
      " -- Voltage delta\n",
      " -- Start segment voltage\n",
      "\u001b[1m1/1\u001b[0m \u001b[32m━━━━━━━━━━━━━━━━━━━━\u001b[0m\u001b[37m\u001b[0m \u001b[1m0s\u001b[0m 154ms/step\n",
      " -- Segment\n",
      " -- Samples count\n",
      " -- Duration\n",
      " -- Voltage delta\n",
      " -- Start segment voltage\n",
      "\u001b[1m1/1\u001b[0m \u001b[32m━━━━━━━━━━━━━━━━━━━━\u001b[0m\u001b[37m\u001b[0m \u001b[1m0s\u001b[0m 21ms/step\n",
      " -- Segment\n",
      " -- Samples count\n",
      " -- Duration\n",
      " -- Voltage delta\n",
      " -- Start segment voltage\n",
      "\u001b[1m1/1\u001b[0m \u001b[32m━━━━━━━━━━━━━━━━━━━━\u001b[0m\u001b[37m\u001b[0m \u001b[1m0s\u001b[0m 21ms/step\n",
      " -- Segment\n",
      " -- Samples count\n",
      " -- Duration\n",
      " -- Voltage delta\n",
      " -- Start segment voltage\n",
      "\u001b[1m1/1\u001b[0m \u001b[32m━━━━━━━━━━━━━━━━━━━━\u001b[0m\u001b[37m\u001b[0m \u001b[1m0s\u001b[0m 21ms/step\n",
      " -- Segment\n",
      " -- Samples count\n",
      " -- Duration\n",
      " -- Voltage delta\n",
      " -- Start segment voltage\n",
      "\u001b[1m1/1\u001b[0m \u001b[32m━━━━━━━━━━━━━━━━━━━━\u001b[0m\u001b[37m\u001b[0m \u001b[1m0s\u001b[0m 23ms/step\n",
      " -- Segment\n",
      " -- Samples count\n",
      " -- Duration\n",
      " -- Voltage delta\n",
      " -- Start segment voltage\n",
      "\u001b[1m1/1\u001b[0m \u001b[32m━━━━━━━━━━━━━━━━━━━━\u001b[0m\u001b[37m\u001b[0m \u001b[1m0s\u001b[0m 22ms/step\n",
      " -- Segment\n",
      " -- Samples count\n",
      " -- Duration\n",
      " -- Voltage delta\n",
      " -- Start segment voltage\n",
      "\u001b[1m1/1\u001b[0m \u001b[32m━━━━━━━━━━━━━━━━━━━━\u001b[0m\u001b[37m\u001b[0m \u001b[1m0s\u001b[0m 20ms/step\n",
      " -- Segment\n",
      " -- Samples count\n",
      " -- Duration\n",
      " -- Voltage delta\n",
      " -- Start segment voltage\n",
      "\u001b[1m1/1\u001b[0m \u001b[32m━━━━━━━━━━━━━━━━━━━━\u001b[0m\u001b[37m\u001b[0m \u001b[1m0s\u001b[0m 21ms/step\n",
      " -- Segment\n",
      " -- Samples count\n",
      " -- Duration\n",
      " -- Voltage delta\n",
      " -- Start segment voltage\n",
      "\u001b[1m1/1\u001b[0m \u001b[32m━━━━━━━━━━━━━━━━━━━━\u001b[0m\u001b[37m\u001b[0m \u001b[1m0s\u001b[0m 21ms/step\n",
      " -- Segment\n",
      " -- Samples count\n",
      " -- Duration\n",
      " -- Voltage delta\n",
      " -- Start segment voltage\n",
      "\u001b[1m1/1\u001b[0m \u001b[32m━━━━━━━━━━━━━━━━━━━━\u001b[0m\u001b[37m\u001b[0m \u001b[1m0s\u001b[0m 23ms/step\n",
      " -- Segment\n",
      " -- Samples count\n",
      " -- Duration\n",
      " -- Voltage delta\n",
      " -- Start segment voltage\n",
      "\u001b[1m1/1\u001b[0m \u001b[32m━━━━━━━━━━━━━━━━━━━━\u001b[0m\u001b[37m\u001b[0m \u001b[1m0s\u001b[0m 20ms/step\n",
      " -- Segment\n",
      " -- Samples count\n",
      " -- Duration\n",
      " -- Voltage delta\n",
      " -- Start segment voltage\n",
      "\u001b[1m1/1\u001b[0m \u001b[32m━━━━━━━━━━━━━━━━━━━━\u001b[0m\u001b[37m\u001b[0m \u001b[1m0s\u001b[0m 22ms/step\n",
      " -- Segment\n",
      " -- Samples count\n",
      " -- Duration\n",
      " -- Voltage delta\n",
      " -- Start segment voltage\n",
      "\u001b[1m1/1\u001b[0m \u001b[32m━━━━━━━━━━━━━━━━━━━━\u001b[0m\u001b[37m\u001b[0m \u001b[1m0s\u001b[0m 21ms/step\n",
      " -- Segment\n",
      " -- Samples count\n",
      " -- Duration\n",
      " -- Voltage delta\n",
      " -- Start segment voltage\n",
      "\u001b[1m1/1\u001b[0m \u001b[32m━━━━━━━━━━━━━━━━━━━━\u001b[0m\u001b[37m\u001b[0m \u001b[1m0s\u001b[0m 26ms/step\n",
      " -- Segment\n",
      " -- Samples count\n",
      " -- Duration\n",
      " -- Voltage delta\n",
      " -- Start segment voltage\n",
      "\u001b[1m1/1\u001b[0m \u001b[32m━━━━━━━━━━━━━━━━━━━━\u001b[0m\u001b[37m\u001b[0m \u001b[1m0s\u001b[0m 20ms/step\n"
     ]
    }
   ],
   "source": [
    "ptw_real = predict_time_window_with_knowns(y_train, model, predicted_parameters, stationaty_means_normalized)\n"
   ]
  },
  {
   "cell_type": "code",
   "execution_count": 22,
   "id": "8487becb-d2f7-482b-accb-3177738c1356",
   "metadata": {},
   "outputs": [],
   "source": [
    "df_preds = y_test.loc[:, predicted_parameters]\n",
    "df_preds[\"model_test\"] = ann_test\n",
    "df_preds[\"pwd-predicted\"] = ptw\n",
    "df_preds[\"pwd-predicted-real\"] = ptw_real\n"
   ]
  },
  {
   "cell_type": "markdown",
   "id": "e83bd36d-1dde-4242-99ea-3a55942bb1e9",
   "metadata": {
    "jp-MarkdownHeadingCollapsed": true
   },
   "source": [
    "Forecasts results report\n",
    "========================"
   ]
  },
  {
   "cell_type": "code",
   "execution_count": 23,
   "id": "e62727f6-dcd4-46ff-94cc-b05cf21a9b79",
   "metadata": {},
   "outputs": [
    {
     "data": {
      "text/plain": [
       "<Axes: >"
      ]
     },
     "execution_count": 23,
     "metadata": {},
     "output_type": "execute_result"
    },
    {
     "data": {
      "image/png": "[encoded data removed]",
      "text/plain": [
       "<Figure size 640x480 with 1 Axes>"
      ]
     },
     "metadata": {},
     "output_type": "display_data"
    }
   ],
   "source": [
    "df_preds.plot()\n"
   ]
  }
 ],
 "metadata": {
  "kernelspec": {
   "display_name": "Python 3 (ipykernel)",
   "language": "python",
   "name": "python3"
  },
  "language_info": {
   "codemirror_mode": {
    "name": "ipython",
    "version": 3
   },
   "file_extension": ".py",
   "mimetype": "text/x-python",
   "name": "python",
   "nbconvert_exporter": "python",
   "pygments_lexer": "ipython3",
   "version": "3.12.2"
  }
 },
 "nbformat": 4,
 "nbformat_minor": 5
}
