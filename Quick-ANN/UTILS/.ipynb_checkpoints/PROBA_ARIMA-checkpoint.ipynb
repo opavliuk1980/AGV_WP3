{
 "cells": [
  {
   "cell_type": "code",
   "execution_count": 2,
   "id": "04336114-d7ae-453a-b26b-5360d28dab4e",
   "metadata": {},
   "outputs": [
    {
     "ename": "ModuleNotFoundError",
     "evalue": "No module named 'UTILS'",
     "output_type": "error",
     "traceback": [
      "\u001b[0;31m---------------------------------------------------------------------------\u001b[0m",
      "\u001b[0;31mModuleNotFoundError\u001b[0m                       Traceback (most recent call last)",
      "Cell \u001b[0;32mIn[2], line 2\u001b[0m\n\u001b[1;32m      1\u001b[0m \u001b[38;5;28;01mimport\u001b[39;00m \u001b[38;5;21;01mnbimporter\u001b[39;00m;\n\u001b[0;32m----> 2\u001b[0m \u001b[38;5;28;01mfrom\u001b[39;00m \u001b[38;5;21;01mUTILS\u001b[39;00m\u001b[38;5;21;01m.\u001b[39;00m\u001b[38;5;21;01mdata_preprocessing_py\u001b[39;00m \u001b[38;5;28;01mimport\u001b[39;00m time_resampling \n\u001b[1;32m      3\u001b[0m \u001b[38;5;28;01mimport\u001b[39;00m \u001b[38;5;21;01mnumpy\u001b[39;00m \u001b[38;5;28;01mas\u001b[39;00m \u001b[38;5;21;01mnp\u001b[39;00m\n\u001b[1;32m      4\u001b[0m \u001b[38;5;28;01mimport\u001b[39;00m \u001b[38;5;21;01mpandas\u001b[39;00m \u001b[38;5;28;01mas\u001b[39;00m \u001b[38;5;21;01mpd\u001b[39;00m\n",
      "\u001b[0;31mModuleNotFoundError\u001b[0m: No module named 'UTILS'"
     ]
    }
   ],
   "source": [
    "import nbimporter;\n",
    "from UTILS.data_preprocessing_py import time_resampling \n",
    "import numpy as np\n",
    "import pandas as pd\n",
    "import matplotlib.pyplot as plt\n",
    "from sklearn.preprocessing import MinMaxScaler\n",
    "from keras.models import Sequential\n",
    "from keras.layers import Dense, SimpleRNN\n",
    "from statsmodels.tsa.stattools import adfuller\n",
    "from statsmodels.graphics.tsaplots import plot_acf, plot_pacf \n",
    "from statsmodels.tsa.seasonal import seasonal_decompose\n",
    "from matplotlib import pyplot\n",
    "\n",
    "# # Завантаження даних з файлу\n",
    "# data = pd.read_csv('data.csv')\n",
    "\n",
    "FILE_NAME = '6000_frames_20221124+25_new'\n",
    "PREDICT_PARAM = \"ENS_Battery_cell_voltage\"\n",
    "\n",
    "TRAIN_COUNT = 5000#250\n",
    "VALID_COUNT = 50\n",
    "PREDICT_COUNT = 21\n",
    "\n",
    "EPOHS = 100\n",
    "BATCH_SIZE = 12\n",
    "\n",
    "WINDOW=100 #MA\n",
    "def check_stationarity(series):\n",
    "    # Copied from https://machinelearningmastery.com/time-series-data-stationary-python/\n",
    "\n",
    "    result = adfuller(series.values)\n",
    "\n",
    "    print('ADF Statistic: %f' % result[0])\n",
    "    print('p-value: %f' % result[1])\n",
    "    print('Critical Values:')\n",
    "    for key, value in result[4].items():\n",
    "        print('\\t%s: %.3f' % (key, value))\n",
    "\n",
    "    if (result[1] <= 0.05) & (result[4]['5%'] > result[0]):\n",
    "        print(\"\\u001b[32mStationary\\u001b[0m\")\n",
    "    else:\n",
    "        print(\"\\x1b[31mNon-stationary\\x1b[0m\")\n",
    "        \n",
    "\n",
    "# Завантаження даних\n",
    "#data = pd.read_csv('data.csv')\n",
    "# data = pd.read_csv('data/Origin_pkl/'+FILE_NAME + '.pkl', parse_dates=['Timestamp'])#, index_col='Timestamp')\n",
    "data = pd.read_csv('data/Origin_pkl/Data_2023/6000_frames_20230424.pkl', parse_dates=['source_ts'])\n",
    "#data = data.loc[0:TRAIN_COUNT+VALID_COUNT+PREDICT_COUNT-1+n_steps,:]\n",
    "data = data.loc[0:TRAIN_COUNT+VALID_COUNT+PREDICT_COUNT-1,:]\n",
    "rainfall_data_matrix = pd.read_csv('data/Origin_pkl/Data_2023/6000_frames_20230424.pkl')#,\n",
    "\n",
    "print(data.shape)\n",
    "data.head()\n"
   ]
  },
  {
   "cell_type": "code",
   "execution_count": null,
   "id": "bd25a1ce-53db-405f-a73a-c8e449cdfaa3",
   "metadata": {},
   "outputs": [],
   "source": []
  }
 ],
 "metadata": {
  "kernelspec": {
   "display_name": "Python 3 (ipykernel)",
   "language": "python",
   "name": "python3"
  },
  "language_info": {
   "codemirror_mode": {
    "name": "ipython",
    "version": 3
   },
   "file_extension": ".py",
   "mimetype": "text/x-python",
   "name": "python",
   "nbconvert_exporter": "python",
   "pygments_lexer": "ipython3",
   "version": "3.10.9"
  }
 },
 "nbformat": 4,
 "nbformat_minor": 5
}
